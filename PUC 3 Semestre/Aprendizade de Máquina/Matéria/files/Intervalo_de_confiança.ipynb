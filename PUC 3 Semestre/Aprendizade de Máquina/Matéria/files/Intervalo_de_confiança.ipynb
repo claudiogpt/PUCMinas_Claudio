{
  "nbformat": 4,
  "nbformat_minor": 0,
  "metadata": {
    "colab": {
      "provenance": []
    },
    "kernelspec": {
      "name": "python3",
      "display_name": "Python 3"
    },
    "language_info": {
      "name": "python"
    }
  },
  "cells": [
    {
      "cell_type": "code",
      "execution_count": null,
      "metadata": {
        "id": "6eflbXa9CNel"
      },
      "outputs": [],
      "source": [
        "from scipy import stats\n",
        "import pandas as pd\n",
        "import numpy as np\n",
        "import seaborn as sns\n",
        "import matplotlib.pyplot as plt\n",
        "import plotly.express as px\n",
        "import scipy.stats as st"
      ]
    },
    {
      "cell_type": "markdown",
      "source": [
        "**Intervalo de confiança do Fmeasure, para cada classe - Árvore de decisão **\n"
      ],
      "metadata": {
        "id": "n-9d-ssgFNUk"
      }
    },
    {
      "cell_type": "code",
      "source": [
        "#Function for calculating confidence interval from cross-validation\n",
        "def interval_confidence(values):\n",
        "    return st.t.interval(alpha=0.95, df=len(values)-1, loc=np.mean(values), scale=st.sem(values))"
      ],
      "metadata": {
        "id": "9f0I1iqFLJjx"
      },
      "execution_count": null,
      "outputs": []
    },
    {
      "cell_type": "markdown",
      "source": [
        "**Análise do intervalo de confiança para o Algoritmo de Árvore de decisão**"
      ],
      "metadata": {
        "id": "QDptso_Zw6hS"
      }
    },
    {
      "cell_type": "code",
      "source": [
        "ADFmeasureInferior  = (0.33,0.86, 0.67, 0.88, 0.78, 0.78, 0.88, 0.33, 0.6, 0.6)\n",
        "ADFmeasureSuperior = (0.78, 0.94, 0.8, 0.75, 0.33, 0.33, 0.75, 0.33, 0.67, 0.67)\n",
        "ADRecallInferior= (0.33, 0.75, 0.75,0.78, 0.88, 0.88, 0.88,0.5, 0.6, 0.5)\n",
        "ADRecallSuperior= (0.78, 1, 0.75, 1, 0.25, 0.25, 0.75, 0.25, 0.67, 0.8)\n",
        "ADPrecisionInferior= (0.33, 1, 0.6, 1, 0.7, 0.7, 0.88, 0.25, 0.6, 0.75)\n",
        "ADPrecisionSuperior= (0.78, 0.89, 0.86, 0.6, 0.5, 0.5, 0.75, 0.5, 0.67, 0.57)"
      ],
      "metadata": {
        "id": "lk_3GLOzCyjc"
      },
      "execution_count": null,
      "outputs": []
    },
    {
      "cell_type": "code",
      "source": [
        "IntervaloFmeasureInferior = interval_confidence(ADFmeasureInferior)\n",
        "IntervaloFmeasureSuperior = interval_confidence(ADFmeasureSuperior)\n",
        "print(IntervaloFmeasureInferior)\n",
        "print(IntervaloFmeasureSuperior)"
      ],
      "metadata": {
        "colab": {
          "base_uri": "https://localhost:8080/"
        },
        "id": "UAmERxeDLM5H",
        "outputId": "a922fb34-7ae9-4189-a9b3-a50196e77f2f"
      },
      "execution_count": null,
      "outputs": [
        {
          "output_type": "stream",
          "name": "stdout",
          "text": [
            "(0.5221839834552601, 0.8198160165447398)\n",
            "(0.47517468748830594, 0.7948253125116941)\n"
          ]
        }
      ]
    },
    {
      "cell_type": "code",
      "source": [
        "IntervaloRecallInferior = interval_confidence(ADRecallInferior)\n",
        "IntervaloRecallSuperior = interval_confidence(ADRecallSuperior)\n",
        "print(IntervaloRecallInferior)\n",
        "print(IntervaloRecallSuperior)"
      ],
      "metadata": {
        "colab": {
          "base_uri": "https://localhost:8080/"
        },
        "id": "ZfsoF7ztwU2a",
        "outputId": "02b29f7d-2a79-43be-8409-9644fcad71a5"
      },
      "execution_count": null,
      "outputs": [
        {
          "output_type": "stream",
          "name": "stdout",
          "text": [
            "(0.5473467091488192, 0.8226532908511807)\n",
            "(0.43875763717388494, 0.8612423628261151)\n"
          ]
        }
      ]
    },
    {
      "cell_type": "code",
      "source": [
        "IntervaloPrecisionInferior = interval_confidence(ADPrecisionInferior)\n",
        "IntervaloPrecisionSuperior = interval_confidence(ADPrecisionSuperior)\n",
        "print(IntervaloPrecisionInferior)\n",
        "print(IntervaloPrecisionSuperior)"
      ],
      "metadata": {
        "colab": {
          "base_uri": "https://localhost:8080/"
        },
        "id": "RO2dUDqAwlk9",
        "outputId": "f370ff91-df0f-448f-c98f-dad09bba4b1c"
      },
      "execution_count": null,
      "outputs": [
        {
          "output_type": "stream",
          "name": "stdout",
          "text": [
            "(0.5008635288496222, 0.8611364711503777)\n",
            "(0.554310336217512, 0.769689663782488)\n"
          ]
        }
      ]
    },
    {
      "cell_type": "markdown",
      "source": [
        "**Análise do intervalo de confiança para o Algoritmo de Redes Neurais**"
      ],
      "metadata": {
        "id": "IJ4L1zJIxB0T"
      }
    },
    {
      "cell_type": "code",
      "source": [
        "RNFmeasureInferior  = (0.29, 0.67, 0.67, 0.71, 0.71, 0.89, 0.49, 0.5, 0.8, 0.55)\n",
        "RNFmeasureSuperior =  (0.71, 0.89, 0.67, 0.6, 0.6, 0.67, 0.36, 0.5, 0.83, 0.55)\n",
        "RNRecallInferior= (0.33, 0.5, 1, 0.56, 0.62, 1, 0.38, 0.75, 0.8, 0.5)\n",
        "RNRecallSuperior= (0.67, 1, 0.5, 1, 0.75, 0.5, 0.5, 0.38, 0.83, 0.6)\n",
        "RNPrecisionInferior= (0.25, 1, 0.5, 1, 0.83, 0.8, 0.6, 0.38, 0.8, 0.6)\n",
        "RNPrecisionSuperior= (0.75, 0.8, 1, 0.43, 0.5, 1, 0.29, 0.75, 0.83, 0.5)"
      ],
      "metadata": {
        "id": "PpMdhcKJyw_i"
      },
      "execution_count": null,
      "outputs": []
    },
    {
      "cell_type": "code",
      "source": [
        "IntervaloFmeasureInferior = interval_confidence(RNFmeasureInferior)\n",
        "IntervaloFmeasureSuperior = interval_confidence(RNFmeasureSuperior)\n",
        "print(IntervaloFmeasureInferior)\n",
        "print(IntervaloFmeasureSuperior)"
      ],
      "metadata": {
        "colab": {
          "base_uri": "https://localhost:8080/"
        },
        "id": "80AIvzgVy0BZ",
        "outputId": "bee6a7fc-f47d-4efd-ddb6-95c49895a8c2"
      },
      "execution_count": null,
      "outputs": [
        {
          "output_type": "stream",
          "name": "stdout",
          "text": [
            "(0.5038764719840358, 0.7521235280159639)\n",
            "(0.527547411125887, 0.748452588874113)\n"
          ]
        }
      ]
    },
    {
      "cell_type": "code",
      "source": [
        "IntervaloRecallInferior = interval_confidence(RNRecallInferior)\n",
        "IntervaloRecallSuperior = interval_confidence(RNRecallSuperior)\n",
        "print(IntervaloRecallInferior)\n",
        "print(IntervaloRecallSuperior)"
      ],
      "metadata": {
        "colab": {
          "base_uri": "https://localhost:8080/"
        },
        "id": "YhT4fSaky1vp",
        "outputId": "530a80eb-626b-44fa-e613-e90741c02cee"
      },
      "execution_count": null,
      "outputs": [
        {
          "output_type": "stream",
          "name": "stdout",
          "text": [
            "(0.47430637801363695, 0.8136936219863631)\n",
            "(0.51747315334067, 0.8285268466593299)\n"
          ]
        }
      ]
    },
    {
      "cell_type": "code",
      "source": [
        "IntervaloPrecisionInferior = interval_confidence(RNPrecisionInferior)\n",
        "IntervaloPrecisionSuperior = interval_confidence(RNPrecisionSuperior)\n",
        "print(IntervaloPrecisionInferior)\n",
        "print(IntervaloPrecisionSuperior)"
      ],
      "metadata": {
        "colab": {
          "base_uri": "https://localhost:8080/"
        },
        "id": "zvhvyjzRy30a",
        "outputId": "a6ab122e-4b4b-4951-cdb8-778b8dad5529"
      },
      "execution_count": null,
      "outputs": [
        {
          "output_type": "stream",
          "name": "stdout",
          "text": [
            "(0.49502114331991354, 0.8569788566800863)\n",
            "(0.511297686124693, 0.8587023138753069)\n"
          ]
        }
      ]
    },
    {
      "cell_type": "markdown",
      "source": [
        "**Análise do intervalo de confiança para o Algoritmo de Random**"
      ],
      "metadata": {
        "id": "QLPkM24K1wgc"
      }
    },
    {
      "cell_type": "code",
      "source": [
        "RFFmeasureInferior  = (0.67, 0.86, 0.75, 0.88, 0.8, 0.89, 0.88, 0.36, 0.89, 0.8)\n",
        "RFFmeasureSuperior =  (0.89, 0.94, 0.88, 0.75, 0.67, 0.67, 0.75, 0.46, 0.92, 0.83)\n",
        "RFRecallInferior= (0.67, 0.75, 0.75, 0.78, 0.75, 1, 0.88, 0.5, 0.8, 0.67)\n",
        "RFRecallSuperior= (0.89, 1, 0.88, 1, 0.75, 0.5, 0.75, 0.38, 1, 1)\n",
        "RFPrecisionInferior= (0.67, 1, 0.75, 1, 0.86, 0.8, 0.88, 0.29, 1, 1)\n",
        "RFPrecisionSuperior= (0.89, 0.89, 0.88, 0.6, 0.6, 1, 0.75, 0.6, 0.86, 0.71)"
      ],
      "metadata": {
        "id": "MN8z167c11-g"
      },
      "execution_count": null,
      "outputs": []
    },
    {
      "cell_type": "code",
      "source": [
        "IntervaloFmeasureInferior = interval_confidence(RFFmeasureInferior)\n",
        "IntervaloFmeasureSuperior = interval_confidence(RFFmeasureSuperior)\n",
        "print(IntervaloFmeasureInferior)\n",
        "print(IntervaloFmeasureSuperior)"
      ],
      "metadata": {
        "colab": {
          "base_uri": "https://localhost:8080/"
        },
        "id": "iLTcy15p12wG",
        "outputId": "23496685-66a5-4caf-e9e9-76520cc7c099"
      },
      "execution_count": null,
      "outputs": [
        {
          "output_type": "stream",
          "name": "stdout",
          "text": [
            "(0.6609978919103646, 0.8950021080896352)\n",
            "(0.6698847068341152, 0.8821152931658849)\n"
          ]
        }
      ]
    },
    {
      "cell_type": "code",
      "source": [
        "IntervaloRecallInferior = interval_confidence(RFRecallInferior)\n",
        "IntervaloRecallSuperior = interval_confidence(RFRecallSuperior)\n",
        "print(IntervaloRecallInferior)\n",
        "print(IntervaloRecallSuperior)"
      ],
      "metadata": {
        "colab": {
          "base_uri": "https://localhost:8080/"
        },
        "id": "U7JhAvMl13io",
        "outputId": "69fb6290-2033-45ca-831a-b64a31595deb"
      },
      "execution_count": null,
      "outputs": [
        {
          "output_type": "stream",
          "name": "stdout",
          "text": [
            "(0.6602620871785841, 0.8497379128214159)\n",
            "(0.6561739400549773, 0.9738260599450228)\n"
          ]
        }
      ]
    },
    {
      "cell_type": "code",
      "source": [
        "IntervaloPrecisionInferior = interval_confidence(RFPrecisionInferior)\n",
        "IntervaloPrecisionSuperior = interval_confidence(RFPrecisionSuperior)\n",
        "print(IntervaloPrecisionInferior)\n",
        "print(IntervaloPrecisionSuperior)"
      ],
      "metadata": {
        "colab": {
          "base_uri": "https://localhost:8080/"
        },
        "id": "Zlo6fhE613Ku",
        "outputId": "a307f22c-bc36-457f-9609-519f12e233eb"
      },
      "execution_count": null,
      "outputs": [
        {
          "output_type": "stream",
          "name": "stdout",
          "text": [
            "(0.6662455559124995, 0.9837544440875005)\n",
            "(0.6735263206270278, 0.8824736793729723)\n"
          ]
        }
      ]
    },
    {
      "cell_type": "markdown",
      "source": [
        "**Análise do intervalo de confiança para o Algoritmo de SVM**"
      ],
      "metadata": {
        "id": "-TZxSo0q3_Bz"
      }
    },
    {
      "cell_type": "code",
      "source": [
        "SVMFmeasureInferior  = (0.33, 0.67, 0.6, 0.57, 0.88, 0.88, 0.57, 0.29, 0.8, 0.8)\n",
        "SVMFmeasureSuperior =  (0.78, 0.89, 0.71, 0.4, 0.75, 0.75, 0.4, 0.71, 0.83, 0.83)\n",
        "SVMRecallInferior= (0.33, 0.5, 0.75, 0.44, 0.88, 0.88, 0.5, 0.25, 0.8, 0.67)\n",
        "SVMRecallSuperior= (0.78, 1, 0.62, 0.67, 0.75, 0.75, 0.5, 0.75, 0.83,1)\n",
        "SVMPrecisionInferior= (0.33, 1, 0.5, 0.8, 0.88, 0.88, 0.67, 0.33, 0.8,1)\n",
        "SVMPrecisionSuperior= (0.78, 0.8, 0.83, 0.29, 0.75, 0.75, 0.33, 0.67, 0.83, 0.71)"
      ],
      "metadata": {
        "id": "d3wK4WRD4Dl1"
      },
      "execution_count": null,
      "outputs": []
    },
    {
      "cell_type": "code",
      "source": [
        "IntervaloFmeasureInferior = interval_confidence(SVMFmeasureInferior)\n",
        "IntervaloFmeasureSuperior = interval_confidence(SVMFmeasureSuperior)\n",
        "print(IntervaloFmeasureInferior)\n",
        "print(IntervaloFmeasureSuperior)"
      ],
      "metadata": {
        "colab": {
          "base_uri": "https://localhost:8080/"
        },
        "id": "iWtMZWlV4E-f",
        "outputId": "ba5aa741-5f17-419e-b337-fd99fde299c4"
      },
      "execution_count": null,
      "outputs": [
        {
          "output_type": "stream",
          "name": "stdout",
          "text": [
            "(0.48870126120704654, 0.7892987387929535)\n",
            "(0.5831207792156207, 0.8268792207843793)\n"
          ]
        }
      ]
    },
    {
      "cell_type": "code",
      "source": [
        "IntervaloRecallInferior = interval_confidence(SVMRecallInferior)\n",
        "IntervaloRecallSuperior = interval_confidence(SVMRecallSuperior)\n",
        "print(IntervaloRecallInferior)\n",
        "print(IntervaloRecallSuperior)"
      ],
      "metadata": {
        "colab": {
          "base_uri": "https://localhost:8080/"
        },
        "id": "kASVT2KX4Ekw",
        "outputId": "0a94afce-6134-4705-9574-6fcb7c73f07f"
      },
      "execution_count": null,
      "outputs": [
        {
          "output_type": "stream",
          "name": "stdout",
          "text": [
            "(0.4373622443908254, 0.7626377556091744)\n",
            "(0.6542158714237069, 0.8757841285762932)\n"
          ]
        }
      ]
    },
    {
      "cell_type": "code",
      "source": [
        "IntervaloPrecisionInferior = interval_confidence(SVMPrecisionInferior)\n",
        "IntervaloPrecisionSuperior = interval_confidence(SVMPrecisionSuperior)\n",
        "print(IntervaloPrecisionInferior)\n",
        "print(IntervaloPrecisionSuperior)"
      ],
      "metadata": {
        "colab": {
          "base_uri": "https://localhost:8080/"
        },
        "id": "AtwbLNIL4EYp",
        "outputId": "0d5b508f-ed2d-4156-e559-6e071adbd97c"
      },
      "execution_count": null,
      "outputs": [
        {
          "output_type": "stream",
          "name": "stdout",
          "text": [
            "(0.5380447081730324, 0.8999552918269675)\n",
            "(0.5320377469396402, 0.8159622530603599)\n"
          ]
        }
      ]
    }
  ]
}