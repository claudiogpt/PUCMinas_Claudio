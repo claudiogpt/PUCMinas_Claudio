{
  "nbformat": 4,
  "nbformat_minor": 0,
  "metadata": {
    "colab": {
      "provenance": [],
      "collapsed_sections": []
    },
    "kernelspec": {
      "name": "python3",
      "display_name": "Python 3"
    },
    "language_info": {
      "name": "python"
    }
  },
  "cells": [
    {
      "cell_type": "markdown",
      "source": [
        "**Atualizando a biblioteca para plotagem de gráficos**\n"
      ],
      "metadata": {
        "id": "WYfovYvpPtHN"
      }
    },
    {
      "cell_type": "code",
      "source": [
        "!pip -q install plotly --upgrade"
      ],
      "metadata": {
        "id": "hTIKXbn7PfB3"
      },
      "execution_count": 285,
      "outputs": []
    },
    {
      "cell_type": "markdown",
      "source": [
        "**Para balanceamento de classes, veja os métodos em:**\n",
        "\n",
        "https://imbalanced-learn.org/stable/references/generated/imblearn.under_sampling.RandomUnderSampler.html "
      ],
      "metadata": {
        "id": "mB57mYxHqiOK"
      }
    },
    {
      "cell_type": "markdown",
      "source": [
        "**Importando bibliotecas**"
      ],
      "metadata": {
        "id": "vWFW_ECYPktU"
      }
    },
    {
      "cell_type": "code",
      "source": [
        "import pandas as pd\n",
        "import numpy as np\n",
        "import seaborn as sns\n",
        "import matplotlib.pyplot as plt\n",
        "import plotly.express as px"
      ],
      "metadata": {
        "id": "kkOvJnL-P1QQ"
      },
      "execution_count": 286,
      "outputs": []
    },
    {
      "cell_type": "markdown",
      "source": [
        "**Abrindo um arquivo CSV do drive**"
      ],
      "metadata": {
        "id": "A5YB5ubEQfaE"
      }
    },
    {
      "cell_type": "code",
      "source": [
        "base = pd.read_csv('/content/sample_data/cancer.csv', ';')"
      ],
      "metadata": {
        "id": "3rzDkhcBQddF",
        "colab": {
          "base_uri": "https://localhost:8080/"
        },
        "outputId": "df8f9372-7905-4321-a0c1-908f1c0e2647"
      },
      "execution_count": 287,
      "outputs": [
        {
          "output_type": "stream",
          "name": "stderr",
          "text": [
            "/usr/local/lib/python3.7/dist-packages/IPython/core/interactiveshell.py:3326: FutureWarning: In a future version of pandas all arguments of read_csv except for the argument 'filepath_or_buffer' will be keyword-only\n",
            "  exec(code_obj, self.user_global_ns, self.user_ns)\n"
          ]
        }
      ]
    },
    {
      "cell_type": "code",
      "source": [
        "base"
      ],
      "metadata": {
        "id": "SFVtNXxPUAnR",
        "colab": {
          "base_uri": "https://localhost:8080/",
          "height": 468
        },
        "outputId": "0e33e85d-8102-4be1-e947-ea127bf17178"
      },
      "execution_count": 288,
      "outputs": [
        {
          "output_type": "execute_result",
          "data": {
            "text/plain": [
              "       age menopause tumorsize invnodes nodecaps  degmalig breast breastquad  \\\n",
              "0    40-49   premeno     15-19      0-2      yes         3  right    left_up   \n",
              "1    50-59      ge40     15-19      0-2       no         1  right    central   \n",
              "2    50-59      ge40     35-39      0-2       no         2   left   left_low   \n",
              "3    40-49   premeno     35-39      0-2      yes         3  right   left_low   \n",
              "4    40-49   premeno     30-34   03/mai      yes         2   left   right_up   \n",
              "..     ...       ...       ...      ...      ...       ...    ...        ...   \n",
              "281  50-59      ge40     30-34   06/ago      yes         2   left   left_low   \n",
              "282  50-59   premeno     25-29   03/mai      yes         2   left   left_low   \n",
              "283  30-39   premeno     30-34   06/ago      yes         2  right   right_up   \n",
              "284  50-59   premeno     15-19      0-2       no         2  right   left_low   \n",
              "285  50-59      ge40     40-44      0-2       no         3   left   right_up   \n",
              "\n",
              "    irradiat                 Class  \n",
              "0         no     recurrence-events  \n",
              "1         no  no-recurrence-events  \n",
              "2         no     recurrence-events  \n",
              "3        yes  no-recurrence-events  \n",
              "4         no     recurrence-events  \n",
              "..       ...                   ...  \n",
              "281       no  no-recurrence-events  \n",
              "282      yes  no-recurrence-events  \n",
              "283       no  no-recurrence-events  \n",
              "284       no  no-recurrence-events  \n",
              "285       no  no-recurrence-events  \n",
              "\n",
              "[286 rows x 10 columns]"
            ],
            "text/html": [
              "\n",
              "  <div id=\"df-24c51a9f-6d15-44e9-ac65-a71e99f020ab\">\n",
              "    <div class=\"colab-df-container\">\n",
              "      <div>\n",
              "<style scoped>\n",
              "    .dataframe tbody tr th:only-of-type {\n",
              "        vertical-align: middle;\n",
              "    }\n",
              "\n",
              "    .dataframe tbody tr th {\n",
              "        vertical-align: top;\n",
              "    }\n",
              "\n",
              "    .dataframe thead th {\n",
              "        text-align: right;\n",
              "    }\n",
              "</style>\n",
              "<table border=\"1\" class=\"dataframe\">\n",
              "  <thead>\n",
              "    <tr style=\"text-align: right;\">\n",
              "      <th></th>\n",
              "      <th>age</th>\n",
              "      <th>menopause</th>\n",
              "      <th>tumorsize</th>\n",
              "      <th>invnodes</th>\n",
              "      <th>nodecaps</th>\n",
              "      <th>degmalig</th>\n",
              "      <th>breast</th>\n",
              "      <th>breastquad</th>\n",
              "      <th>irradiat</th>\n",
              "      <th>Class</th>\n",
              "    </tr>\n",
              "  </thead>\n",
              "  <tbody>\n",
              "    <tr>\n",
              "      <th>0</th>\n",
              "      <td>40-49</td>\n",
              "      <td>premeno</td>\n",
              "      <td>15-19</td>\n",
              "      <td>0-2</td>\n",
              "      <td>yes</td>\n",
              "      <td>3</td>\n",
              "      <td>right</td>\n",
              "      <td>left_up</td>\n",
              "      <td>no</td>\n",
              "      <td>recurrence-events</td>\n",
              "    </tr>\n",
              "    <tr>\n",
              "      <th>1</th>\n",
              "      <td>50-59</td>\n",
              "      <td>ge40</td>\n",
              "      <td>15-19</td>\n",
              "      <td>0-2</td>\n",
              "      <td>no</td>\n",
              "      <td>1</td>\n",
              "      <td>right</td>\n",
              "      <td>central</td>\n",
              "      <td>no</td>\n",
              "      <td>no-recurrence-events</td>\n",
              "    </tr>\n",
              "    <tr>\n",
              "      <th>2</th>\n",
              "      <td>50-59</td>\n",
              "      <td>ge40</td>\n",
              "      <td>35-39</td>\n",
              "      <td>0-2</td>\n",
              "      <td>no</td>\n",
              "      <td>2</td>\n",
              "      <td>left</td>\n",
              "      <td>left_low</td>\n",
              "      <td>no</td>\n",
              "      <td>recurrence-events</td>\n",
              "    </tr>\n",
              "    <tr>\n",
              "      <th>3</th>\n",
              "      <td>40-49</td>\n",
              "      <td>premeno</td>\n",
              "      <td>35-39</td>\n",
              "      <td>0-2</td>\n",
              "      <td>yes</td>\n",
              "      <td>3</td>\n",
              "      <td>right</td>\n",
              "      <td>left_low</td>\n",
              "      <td>yes</td>\n",
              "      <td>no-recurrence-events</td>\n",
              "    </tr>\n",
              "    <tr>\n",
              "      <th>4</th>\n",
              "      <td>40-49</td>\n",
              "      <td>premeno</td>\n",
              "      <td>30-34</td>\n",
              "      <td>03/mai</td>\n",
              "      <td>yes</td>\n",
              "      <td>2</td>\n",
              "      <td>left</td>\n",
              "      <td>right_up</td>\n",
              "      <td>no</td>\n",
              "      <td>recurrence-events</td>\n",
              "    </tr>\n",
              "    <tr>\n",
              "      <th>...</th>\n",
              "      <td>...</td>\n",
              "      <td>...</td>\n",
              "      <td>...</td>\n",
              "      <td>...</td>\n",
              "      <td>...</td>\n",
              "      <td>...</td>\n",
              "      <td>...</td>\n",
              "      <td>...</td>\n",
              "      <td>...</td>\n",
              "      <td>...</td>\n",
              "    </tr>\n",
              "    <tr>\n",
              "      <th>281</th>\n",
              "      <td>50-59</td>\n",
              "      <td>ge40</td>\n",
              "      <td>30-34</td>\n",
              "      <td>06/ago</td>\n",
              "      <td>yes</td>\n",
              "      <td>2</td>\n",
              "      <td>left</td>\n",
              "      <td>left_low</td>\n",
              "      <td>no</td>\n",
              "      <td>no-recurrence-events</td>\n",
              "    </tr>\n",
              "    <tr>\n",
              "      <th>282</th>\n",
              "      <td>50-59</td>\n",
              "      <td>premeno</td>\n",
              "      <td>25-29</td>\n",
              "      <td>03/mai</td>\n",
              "      <td>yes</td>\n",
              "      <td>2</td>\n",
              "      <td>left</td>\n",
              "      <td>left_low</td>\n",
              "      <td>yes</td>\n",
              "      <td>no-recurrence-events</td>\n",
              "    </tr>\n",
              "    <tr>\n",
              "      <th>283</th>\n",
              "      <td>30-39</td>\n",
              "      <td>premeno</td>\n",
              "      <td>30-34</td>\n",
              "      <td>06/ago</td>\n",
              "      <td>yes</td>\n",
              "      <td>2</td>\n",
              "      <td>right</td>\n",
              "      <td>right_up</td>\n",
              "      <td>no</td>\n",
              "      <td>no-recurrence-events</td>\n",
              "    </tr>\n",
              "    <tr>\n",
              "      <th>284</th>\n",
              "      <td>50-59</td>\n",
              "      <td>premeno</td>\n",
              "      <td>15-19</td>\n",
              "      <td>0-2</td>\n",
              "      <td>no</td>\n",
              "      <td>2</td>\n",
              "      <td>right</td>\n",
              "      <td>left_low</td>\n",
              "      <td>no</td>\n",
              "      <td>no-recurrence-events</td>\n",
              "    </tr>\n",
              "    <tr>\n",
              "      <th>285</th>\n",
              "      <td>50-59</td>\n",
              "      <td>ge40</td>\n",
              "      <td>40-44</td>\n",
              "      <td>0-2</td>\n",
              "      <td>no</td>\n",
              "      <td>3</td>\n",
              "      <td>left</td>\n",
              "      <td>right_up</td>\n",
              "      <td>no</td>\n",
              "      <td>no-recurrence-events</td>\n",
              "    </tr>\n",
              "  </tbody>\n",
              "</table>\n",
              "<p>286 rows × 10 columns</p>\n",
              "</div>\n",
              "      <button class=\"colab-df-convert\" onclick=\"convertToInteractive('df-24c51a9f-6d15-44e9-ac65-a71e99f020ab')\"\n",
              "              title=\"Convert this dataframe to an interactive table.\"\n",
              "              style=\"display:none;\">\n",
              "        \n",
              "  <svg xmlns=\"http://www.w3.org/2000/svg\" height=\"24px\"viewBox=\"0 0 24 24\"\n",
              "       width=\"24px\">\n",
              "    <path d=\"M0 0h24v24H0V0z\" fill=\"none\"/>\n",
              "    <path d=\"M18.56 5.44l.94 2.06.94-2.06 2.06-.94-2.06-.94-.94-2.06-.94 2.06-2.06.94zm-11 1L8.5 8.5l.94-2.06 2.06-.94-2.06-.94L8.5 2.5l-.94 2.06-2.06.94zm10 10l.94 2.06.94-2.06 2.06-.94-2.06-.94-.94-2.06-.94 2.06-2.06.94z\"/><path d=\"M17.41 7.96l-1.37-1.37c-.4-.4-.92-.59-1.43-.59-.52 0-1.04.2-1.43.59L10.3 9.45l-7.72 7.72c-.78.78-.78 2.05 0 2.83L4 21.41c.39.39.9.59 1.41.59.51 0 1.02-.2 1.41-.59l7.78-7.78 2.81-2.81c.8-.78.8-2.07 0-2.86zM5.41 20L4 18.59l7.72-7.72 1.47 1.35L5.41 20z\"/>\n",
              "  </svg>\n",
              "      </button>\n",
              "      \n",
              "  <style>\n",
              "    .colab-df-container {\n",
              "      display:flex;\n",
              "      flex-wrap:wrap;\n",
              "      gap: 12px;\n",
              "    }\n",
              "\n",
              "    .colab-df-convert {\n",
              "      background-color: #E8F0FE;\n",
              "      border: none;\n",
              "      border-radius: 50%;\n",
              "      cursor: pointer;\n",
              "      display: none;\n",
              "      fill: #1967D2;\n",
              "      height: 32px;\n",
              "      padding: 0 0 0 0;\n",
              "      width: 32px;\n",
              "    }\n",
              "\n",
              "    .colab-df-convert:hover {\n",
              "      background-color: #E2EBFA;\n",
              "      box-shadow: 0px 1px 2px rgba(60, 64, 67, 0.3), 0px 1px 3px 1px rgba(60, 64, 67, 0.15);\n",
              "      fill: #174EA6;\n",
              "    }\n",
              "\n",
              "    [theme=dark] .colab-df-convert {\n",
              "      background-color: #3B4455;\n",
              "      fill: #D2E3FC;\n",
              "    }\n",
              "\n",
              "    [theme=dark] .colab-df-convert:hover {\n",
              "      background-color: #434B5C;\n",
              "      box-shadow: 0px 1px 3px 1px rgba(0, 0, 0, 0.15);\n",
              "      filter: drop-shadow(0px 1px 2px rgba(0, 0, 0, 0.3));\n",
              "      fill: #FFFFFF;\n",
              "    }\n",
              "  </style>\n",
              "\n",
              "      <script>\n",
              "        const buttonEl =\n",
              "          document.querySelector('#df-24c51a9f-6d15-44e9-ac65-a71e99f020ab button.colab-df-convert');\n",
              "        buttonEl.style.display =\n",
              "          google.colab.kernel.accessAllowed ? 'block' : 'none';\n",
              "\n",
              "        async function convertToInteractive(key) {\n",
              "          const element = document.querySelector('#df-24c51a9f-6d15-44e9-ac65-a71e99f020ab');\n",
              "          const dataTable =\n",
              "            await google.colab.kernel.invokeFunction('convertToInteractive',\n",
              "                                                     [key], {});\n",
              "          if (!dataTable) return;\n",
              "\n",
              "          const docLinkHtml = 'Like what you see? Visit the ' +\n",
              "            '<a target=\"_blank\" href=https://colab.research.google.com/notebooks/data_table.ipynb>data table notebook</a>'\n",
              "            + ' to learn more about interactive tables.';\n",
              "          element.innerHTML = '';\n",
              "          dataTable['output_type'] = 'display_data';\n",
              "          await google.colab.output.renderOutput(dataTable, element);\n",
              "          const docLink = document.createElement('div');\n",
              "          docLink.innerHTML = docLinkHtml;\n",
              "          element.appendChild(docLink);\n",
              "        }\n",
              "      </script>\n",
              "    </div>\n",
              "  </div>\n",
              "  "
            ]
          },
          "metadata": {},
          "execution_count": 288
        }
      ]
    },
    {
      "cell_type": "markdown",
      "source": [
        "**Verificando se tem ausência de dados**"
      ],
      "metadata": {
        "id": "3ZUxw8zFrPay"
      }
    },
    {
      "cell_type": "code",
      "source": [
        "base.isnull()"
      ],
      "metadata": {
        "colab": {
          "base_uri": "https://localhost:8080/",
          "height": 424
        },
        "id": "cLS8HAUrrKHc",
        "outputId": "ffee02a7-1b45-46ff-f14b-ada220a7daf6"
      },
      "execution_count": 289,
      "outputs": [
        {
          "output_type": "execute_result",
          "data": {
            "text/plain": [
              "       age  menopause  tumorsize  invnodes  nodecaps  degmalig  breast  \\\n",
              "0    False      False      False     False     False     False   False   \n",
              "1    False      False      False     False     False     False   False   \n",
              "2    False      False      False     False     False     False   False   \n",
              "3    False      False      False     False     False     False   False   \n",
              "4    False      False      False     False     False     False   False   \n",
              "..     ...        ...        ...       ...       ...       ...     ...   \n",
              "281  False      False      False     False     False     False   False   \n",
              "282  False      False      False     False     False     False   False   \n",
              "283  False      False      False     False     False     False   False   \n",
              "284  False      False      False     False     False     False   False   \n",
              "285  False      False      False     False     False     False   False   \n",
              "\n",
              "     breastquad  irradiat  Class  \n",
              "0         False     False  False  \n",
              "1         False     False  False  \n",
              "2         False     False  False  \n",
              "3         False     False  False  \n",
              "4         False     False  False  \n",
              "..          ...       ...    ...  \n",
              "281       False     False  False  \n",
              "282       False     False  False  \n",
              "283       False     False  False  \n",
              "284       False     False  False  \n",
              "285       False     False  False  \n",
              "\n",
              "[286 rows x 10 columns]"
            ],
            "text/html": [
              "\n",
              "  <div id=\"df-6059bd55-ebef-4dfb-a257-d26c09494511\">\n",
              "    <div class=\"colab-df-container\">\n",
              "      <div>\n",
              "<style scoped>\n",
              "    .dataframe tbody tr th:only-of-type {\n",
              "        vertical-align: middle;\n",
              "    }\n",
              "\n",
              "    .dataframe tbody tr th {\n",
              "        vertical-align: top;\n",
              "    }\n",
              "\n",
              "    .dataframe thead th {\n",
              "        text-align: right;\n",
              "    }\n",
              "</style>\n",
              "<table border=\"1\" class=\"dataframe\">\n",
              "  <thead>\n",
              "    <tr style=\"text-align: right;\">\n",
              "      <th></th>\n",
              "      <th>age</th>\n",
              "      <th>menopause</th>\n",
              "      <th>tumorsize</th>\n",
              "      <th>invnodes</th>\n",
              "      <th>nodecaps</th>\n",
              "      <th>degmalig</th>\n",
              "      <th>breast</th>\n",
              "      <th>breastquad</th>\n",
              "      <th>irradiat</th>\n",
              "      <th>Class</th>\n",
              "    </tr>\n",
              "  </thead>\n",
              "  <tbody>\n",
              "    <tr>\n",
              "      <th>0</th>\n",
              "      <td>False</td>\n",
              "      <td>False</td>\n",
              "      <td>False</td>\n",
              "      <td>False</td>\n",
              "      <td>False</td>\n",
              "      <td>False</td>\n",
              "      <td>False</td>\n",
              "      <td>False</td>\n",
              "      <td>False</td>\n",
              "      <td>False</td>\n",
              "    </tr>\n",
              "    <tr>\n",
              "      <th>1</th>\n",
              "      <td>False</td>\n",
              "      <td>False</td>\n",
              "      <td>False</td>\n",
              "      <td>False</td>\n",
              "      <td>False</td>\n",
              "      <td>False</td>\n",
              "      <td>False</td>\n",
              "      <td>False</td>\n",
              "      <td>False</td>\n",
              "      <td>False</td>\n",
              "    </tr>\n",
              "    <tr>\n",
              "      <th>2</th>\n",
              "      <td>False</td>\n",
              "      <td>False</td>\n",
              "      <td>False</td>\n",
              "      <td>False</td>\n",
              "      <td>False</td>\n",
              "      <td>False</td>\n",
              "      <td>False</td>\n",
              "      <td>False</td>\n",
              "      <td>False</td>\n",
              "      <td>False</td>\n",
              "    </tr>\n",
              "    <tr>\n",
              "      <th>3</th>\n",
              "      <td>False</td>\n",
              "      <td>False</td>\n",
              "      <td>False</td>\n",
              "      <td>False</td>\n",
              "      <td>False</td>\n",
              "      <td>False</td>\n",
              "      <td>False</td>\n",
              "      <td>False</td>\n",
              "      <td>False</td>\n",
              "      <td>False</td>\n",
              "    </tr>\n",
              "    <tr>\n",
              "      <th>4</th>\n",
              "      <td>False</td>\n",
              "      <td>False</td>\n",
              "      <td>False</td>\n",
              "      <td>False</td>\n",
              "      <td>False</td>\n",
              "      <td>False</td>\n",
              "      <td>False</td>\n",
              "      <td>False</td>\n",
              "      <td>False</td>\n",
              "      <td>False</td>\n",
              "    </tr>\n",
              "    <tr>\n",
              "      <th>...</th>\n",
              "      <td>...</td>\n",
              "      <td>...</td>\n",
              "      <td>...</td>\n",
              "      <td>...</td>\n",
              "      <td>...</td>\n",
              "      <td>...</td>\n",
              "      <td>...</td>\n",
              "      <td>...</td>\n",
              "      <td>...</td>\n",
              "      <td>...</td>\n",
              "    </tr>\n",
              "    <tr>\n",
              "      <th>281</th>\n",
              "      <td>False</td>\n",
              "      <td>False</td>\n",
              "      <td>False</td>\n",
              "      <td>False</td>\n",
              "      <td>False</td>\n",
              "      <td>False</td>\n",
              "      <td>False</td>\n",
              "      <td>False</td>\n",
              "      <td>False</td>\n",
              "      <td>False</td>\n",
              "    </tr>\n",
              "    <tr>\n",
              "      <th>282</th>\n",
              "      <td>False</td>\n",
              "      <td>False</td>\n",
              "      <td>False</td>\n",
              "      <td>False</td>\n",
              "      <td>False</td>\n",
              "      <td>False</td>\n",
              "      <td>False</td>\n",
              "      <td>False</td>\n",
              "      <td>False</td>\n",
              "      <td>False</td>\n",
              "    </tr>\n",
              "    <tr>\n",
              "      <th>283</th>\n",
              "      <td>False</td>\n",
              "      <td>False</td>\n",
              "      <td>False</td>\n",
              "      <td>False</td>\n",
              "      <td>False</td>\n",
              "      <td>False</td>\n",
              "      <td>False</td>\n",
              "      <td>False</td>\n",
              "      <td>False</td>\n",
              "      <td>False</td>\n",
              "    </tr>\n",
              "    <tr>\n",
              "      <th>284</th>\n",
              "      <td>False</td>\n",
              "      <td>False</td>\n",
              "      <td>False</td>\n",
              "      <td>False</td>\n",
              "      <td>False</td>\n",
              "      <td>False</td>\n",
              "      <td>False</td>\n",
              "      <td>False</td>\n",
              "      <td>False</td>\n",
              "      <td>False</td>\n",
              "    </tr>\n",
              "    <tr>\n",
              "      <th>285</th>\n",
              "      <td>False</td>\n",
              "      <td>False</td>\n",
              "      <td>False</td>\n",
              "      <td>False</td>\n",
              "      <td>False</td>\n",
              "      <td>False</td>\n",
              "      <td>False</td>\n",
              "      <td>False</td>\n",
              "      <td>False</td>\n",
              "      <td>False</td>\n",
              "    </tr>\n",
              "  </tbody>\n",
              "</table>\n",
              "<p>286 rows × 10 columns</p>\n",
              "</div>\n",
              "      <button class=\"colab-df-convert\" onclick=\"convertToInteractive('df-6059bd55-ebef-4dfb-a257-d26c09494511')\"\n",
              "              title=\"Convert this dataframe to an interactive table.\"\n",
              "              style=\"display:none;\">\n",
              "        \n",
              "  <svg xmlns=\"http://www.w3.org/2000/svg\" height=\"24px\"viewBox=\"0 0 24 24\"\n",
              "       width=\"24px\">\n",
              "    <path d=\"M0 0h24v24H0V0z\" fill=\"none\"/>\n",
              "    <path d=\"M18.56 5.44l.94 2.06.94-2.06 2.06-.94-2.06-.94-.94-2.06-.94 2.06-2.06.94zm-11 1L8.5 8.5l.94-2.06 2.06-.94-2.06-.94L8.5 2.5l-.94 2.06-2.06.94zm10 10l.94 2.06.94-2.06 2.06-.94-2.06-.94-.94-2.06-.94 2.06-2.06.94z\"/><path d=\"M17.41 7.96l-1.37-1.37c-.4-.4-.92-.59-1.43-.59-.52 0-1.04.2-1.43.59L10.3 9.45l-7.72 7.72c-.78.78-.78 2.05 0 2.83L4 21.41c.39.39.9.59 1.41.59.51 0 1.02-.2 1.41-.59l7.78-7.78 2.81-2.81c.8-.78.8-2.07 0-2.86zM5.41 20L4 18.59l7.72-7.72 1.47 1.35L5.41 20z\"/>\n",
              "  </svg>\n",
              "      </button>\n",
              "      \n",
              "  <style>\n",
              "    .colab-df-container {\n",
              "      display:flex;\n",
              "      flex-wrap:wrap;\n",
              "      gap: 12px;\n",
              "    }\n",
              "\n",
              "    .colab-df-convert {\n",
              "      background-color: #E8F0FE;\n",
              "      border: none;\n",
              "      border-radius: 50%;\n",
              "      cursor: pointer;\n",
              "      display: none;\n",
              "      fill: #1967D2;\n",
              "      height: 32px;\n",
              "      padding: 0 0 0 0;\n",
              "      width: 32px;\n",
              "    }\n",
              "\n",
              "    .colab-df-convert:hover {\n",
              "      background-color: #E2EBFA;\n",
              "      box-shadow: 0px 1px 2px rgba(60, 64, 67, 0.3), 0px 1px 3px 1px rgba(60, 64, 67, 0.15);\n",
              "      fill: #174EA6;\n",
              "    }\n",
              "\n",
              "    [theme=dark] .colab-df-convert {\n",
              "      background-color: #3B4455;\n",
              "      fill: #D2E3FC;\n",
              "    }\n",
              "\n",
              "    [theme=dark] .colab-df-convert:hover {\n",
              "      background-color: #434B5C;\n",
              "      box-shadow: 0px 1px 3px 1px rgba(0, 0, 0, 0.15);\n",
              "      filter: drop-shadow(0px 1px 2px rgba(0, 0, 0, 0.3));\n",
              "      fill: #FFFFFF;\n",
              "    }\n",
              "  </style>\n",
              "\n",
              "      <script>\n",
              "        const buttonEl =\n",
              "          document.querySelector('#df-6059bd55-ebef-4dfb-a257-d26c09494511 button.colab-df-convert');\n",
              "        buttonEl.style.display =\n",
              "          google.colab.kernel.accessAllowed ? 'block' : 'none';\n",
              "\n",
              "        async function convertToInteractive(key) {\n",
              "          const element = document.querySelector('#df-6059bd55-ebef-4dfb-a257-d26c09494511');\n",
              "          const dataTable =\n",
              "            await google.colab.kernel.invokeFunction('convertToInteractive',\n",
              "                                                     [key], {});\n",
              "          if (!dataTable) return;\n",
              "\n",
              "          const docLinkHtml = 'Like what you see? Visit the ' +\n",
              "            '<a target=\"_blank\" href=https://colab.research.google.com/notebooks/data_table.ipynb>data table notebook</a>'\n",
              "            + ' to learn more about interactive tables.';\n",
              "          element.innerHTML = '';\n",
              "          dataTable['output_type'] = 'display_data';\n",
              "          await google.colab.output.renderOutput(dataTable, element);\n",
              "          const docLink = document.createElement('div');\n",
              "          docLink.innerHTML = docLinkHtml;\n",
              "          element.appendChild(docLink);\n",
              "        }\n",
              "      </script>\n",
              "    </div>\n",
              "  </div>\n",
              "  "
            ]
          },
          "metadata": {},
          "execution_count": 289
        }
      ]
    },
    {
      "cell_type": "code",
      "source": [
        "base.isnull().sum()"
      ],
      "metadata": {
        "colab": {
          "base_uri": "https://localhost:8080/"
        },
        "id": "fagl2NBkrgIv",
        "outputId": "1bed2041-13a3-4cf3-8787-82104320a22c"
      },
      "execution_count": 290,
      "outputs": [
        {
          "output_type": "execute_result",
          "data": {
            "text/plain": [
              "age           0\n",
              "menopause     0\n",
              "tumorsize     0\n",
              "invnodes      0\n",
              "nodecaps      0\n",
              "degmalig      0\n",
              "breast        0\n",
              "breastquad    0\n",
              "irradiat      0\n",
              "Class         0\n",
              "dtype: int64"
            ]
          },
          "metadata": {},
          "execution_count": 290
        }
      ]
    },
    {
      "cell_type": "markdown",
      "source": [
        "**Verificando uma instância antes da imputação**.\n",
        "\n",
        "**Veja que ele não tem o tipo NAN e sim a interrogação**"
      ],
      "metadata": {
        "id": "Uls__L4B-LRN"
      }
    },
    {
      "cell_type": "code",
      "source": [
        "X_comNAN = base.iloc[20, 0:10]"
      ],
      "metadata": {
        "id": "5iC3pq-b-QWY"
      },
      "execution_count": 291,
      "outputs": []
    },
    {
      "cell_type": "code",
      "source": [
        "X_comNAN "
      ],
      "metadata": {
        "colab": {
          "base_uri": "https://localhost:8080/"
        },
        "id": "RNeCR4JE-Xex",
        "outputId": "21b8e8af-a2fe-4d1a-cc27-a54cdf65638a"
      },
      "execution_count": 292,
      "outputs": [
        {
          "output_type": "execute_result",
          "data": {
            "text/plain": [
              "age                       50-59\n",
              "menopause                  lt40\n",
              "tumorsize                 20-24\n",
              "invnodes                    0-2\n",
              "nodecaps                      ?\n",
              "degmalig                      1\n",
              "breast                     left\n",
              "breastquad             left_low\n",
              "irradiat                     no\n",
              "Class         recurrence-events\n",
              "Name: 20, dtype: object"
            ]
          },
          "metadata": {},
          "execution_count": 292
        }
      ]
    },
    {
      "cell_type": "markdown",
      "source": [
        "**Podemos substituir todas as interrogações por 'NAN'**"
      ],
      "metadata": {
        "id": "-p3d26QfTPU_"
      }
    },
    {
      "cell_type": "code",
      "source": [
        "base.replace('?', np.nan, inplace = True)"
      ],
      "metadata": {
        "id": "coAGnf2_Swal"
      },
      "execution_count": 293,
      "outputs": []
    },
    {
      "cell_type": "code",
      "source": [
        "X_comNAN = base.iloc[20, 0:10]"
      ],
      "metadata": {
        "id": "0ml504cBTIJI"
      },
      "execution_count": 294,
      "outputs": []
    },
    {
      "cell_type": "code",
      "source": [
        "X_comNAN "
      ],
      "metadata": {
        "colab": {
          "base_uri": "https://localhost:8080/"
        },
        "id": "COaWNIZ4TKa5",
        "outputId": "4c0e06fb-fc75-45b2-813d-ea1a3bb95e3c"
      },
      "execution_count": 295,
      "outputs": [
        {
          "output_type": "execute_result",
          "data": {
            "text/plain": [
              "age                       50-59\n",
              "menopause                  lt40\n",
              "tumorsize                 20-24\n",
              "invnodes                    0-2\n",
              "nodecaps                    NaN\n",
              "degmalig                      1\n",
              "breast                     left\n",
              "breastquad             left_low\n",
              "irradiat                     no\n",
              "Class         recurrence-events\n",
              "Name: 20, dtype: object"
            ]
          },
          "metadata": {},
          "execution_count": 295
        }
      ]
    },
    {
      "cell_type": "markdown",
      "source": [
        "**Vamos contar tudo novamente?**"
      ],
      "metadata": {
        "id": "V2GUt6-bTZCx"
      }
    },
    {
      "cell_type": "code",
      "source": [
        "base.isnull().sum()"
      ],
      "metadata": {
        "colab": {
          "base_uri": "https://localhost:8080/"
        },
        "id": "fHjBG8PXTcmk",
        "outputId": "ac58e5e7-4b6a-4fc2-a873-954268178783"
      },
      "execution_count": 296,
      "outputs": [
        {
          "output_type": "execute_result",
          "data": {
            "text/plain": [
              "age           0\n",
              "menopause     0\n",
              "tumorsize     0\n",
              "invnodes      0\n",
              "nodecaps      8\n",
              "degmalig      0\n",
              "breast        0\n",
              "breastquad    1\n",
              "irradiat      0\n",
              "Class         0\n",
              "dtype: int64"
            ]
          },
          "metadata": {},
          "execution_count": 296
        }
      ]
    },
    {
      "cell_type": "markdown",
      "source": [
        "\n",
        "**Podemos eliminar todas as instâncias que possuem dados ausentes**"
      ],
      "metadata": {
        "id": "oncULUa7Uf0g"
      }
    },
    {
      "cell_type": "code",
      "source": [
        "#base = base.dropna()\n",
        "#base.isnull().sum()"
      ],
      "metadata": {
        "id": "7fGMeaFuUS_K"
      },
      "execution_count": 297,
      "outputs": []
    },
    {
      "cell_type": "markdown",
      "source": [
        "**Ou utilizar métodos de imputação...**\n",
        "\n",
        "**Vamos imputá-los pela MODA**"
      ],
      "metadata": {
        "id": "T7O863K85ygi"
      }
    },
    {
      "cell_type": "code",
      "source": [
        "base['nodecaps'].fillna(base['nodecaps'].mode()[0], inplace=True)"
      ],
      "metadata": {
        "id": "rNgE6_HC8X8L"
      },
      "execution_count": 298,
      "outputs": []
    },
    {
      "cell_type": "code",
      "source": [
        "base['breastquad'].fillna(base['breastquad'].mode()[0], inplace=True)"
      ],
      "metadata": {
        "id": "3NO86Nhn9MjC"
      },
      "execution_count": 299,
      "outputs": []
    },
    {
      "cell_type": "code",
      "source": [
        "base.isnull().sum()"
      ],
      "metadata": {
        "colab": {
          "base_uri": "https://localhost:8080/"
        },
        "id": "KRxtSBEz9T-n",
        "outputId": "6fea8524-345b-4acd-d9a2-fcfd66377b49"
      },
      "execution_count": 300,
      "outputs": [
        {
          "output_type": "execute_result",
          "data": {
            "text/plain": [
              "age           0\n",
              "menopause     0\n",
              "tumorsize     0\n",
              "invnodes      0\n",
              "nodecaps      0\n",
              "degmalig      0\n",
              "breast        0\n",
              "breastquad    0\n",
              "irradiat      0\n",
              "Class         0\n",
              "dtype: int64"
            ]
          },
          "metadata": {},
          "execution_count": 300
        }
      ]
    },
    {
      "cell_type": "markdown",
      "source": [
        "**Verificando a instância depois da imputação**"
      ],
      "metadata": {
        "id": "0Exh_Tgu-FQM"
      }
    },
    {
      "cell_type": "code",
      "source": [
        "X_imputado = base.iloc[20, 0:10]"
      ],
      "metadata": {
        "id": "a0SNT93E-DoF"
      },
      "execution_count": 301,
      "outputs": []
    },
    {
      "cell_type": "code",
      "source": [
        "X_imputado"
      ],
      "metadata": {
        "colab": {
          "base_uri": "https://localhost:8080/"
        },
        "id": "ElVg1TTy--EY",
        "outputId": "3fdba038-082e-4335-9835-f4f9674f96ce"
      },
      "execution_count": 302,
      "outputs": [
        {
          "output_type": "execute_result",
          "data": {
            "text/plain": [
              "age                       50-59\n",
              "menopause                  lt40\n",
              "tumorsize                 20-24\n",
              "invnodes                    0-2\n",
              "nodecaps                     no\n",
              "degmalig                      1\n",
              "breast                     left\n",
              "breastquad             left_low\n",
              "irradiat                     no\n",
              "Class         recurrence-events\n",
              "Name: 20, dtype: object"
            ]
          },
          "metadata": {},
          "execution_count": 302
        }
      ]
    },
    {
      "cell_type": "markdown",
      "source": [
        "**Você também pode fazer o mesmo usando os comandos abaixo:**"
      ],
      "metadata": {
        "id": "-Y3V7_I1emx8"
      }
    },
    {
      "cell_type": "code",
      "source": [
        "#from sklearn.impute import SimpleImputer\n",
        "#imputer = SimpleImputer(strategy='most_frequent') \n",
        "#imputer.fit(base)\n",
        "#base = pd.DataFrame(imputer.fit_transform(base),columns = base.columns)"
      ],
      "metadata": {
        "id": "hp9ds87EemNg"
      },
      "execution_count": 303,
      "outputs": []
    },
    {
      "cell_type": "markdown",
      "source": [
        "**Contando e visualizando a quantidade de opções que temos em cada atributo**"
      ],
      "metadata": {
        "id": "JnLjRU96zwjn"
      }
    },
    {
      "cell_type": "code",
      "source": [
        "len(np.unique(base['age'])), len(np.unique(base['menopause'])), len(np.unique(base['tumorsize'])), len(np.unique(base['invnodes'])), len(np.unique(base['breastquad']))"
      ],
      "metadata": {
        "colab": {
          "base_uri": "https://localhost:8080/"
        },
        "id": "4yLiNPj1zuAm",
        "outputId": "3739721f-2de4-4a24-b334-18ff69d0228a"
      },
      "execution_count": 304,
      "outputs": [
        {
          "output_type": "execute_result",
          "data": {
            "text/plain": [
              "(6, 3, 11, 7, 5)"
            ]
          },
          "metadata": {},
          "execution_count": 304
        }
      ]
    },
    {
      "cell_type": "code",
      "source": [
        "np.unique(base['age'], return_counts=True), sns.countplot(x = base['age'])"
      ],
      "metadata": {
        "colab": {
          "base_uri": "https://localhost:8080/",
          "height": 415
        },
        "id": "UBjdZ-qhVPLj",
        "outputId": "f40064c6-96ab-4883-bfe7-072fcbdccaf6"
      },
      "execution_count": 305,
      "outputs": [
        {
          "output_type": "execute_result",
          "data": {
            "text/plain": [
              "((array(['20-29', '30-39', '40-49', '50-59', '60-69', '70-79'], dtype=object),\n",
              "  array([ 1, 36, 90, 96, 57,  6])),\n",
              " <matplotlib.axes._subplots.AxesSubplot at 0x7f7115da8250>)"
            ]
          },
          "metadata": {},
          "execution_count": 305
        },
        {
          "output_type": "display_data",
          "data": {
            "text/plain": [
              "<Figure size 576x396 with 1 Axes>"
            ],
            "image/png": "[encoded data removed]"
          },
          "metadata": {}
        }
      ]
    },
    {
      "cell_type": "code",
      "source": [
        "np.unique(base['menopause'], return_counts=True), sns.countplot(x = base['menopause'])"
      ],
      "metadata": {
        "colab": {
          "base_uri": "https://localhost:8080/",
          "height": 396
        },
        "id": "X7uBB4JTWk2c",
        "outputId": "594a8b92-3cd9-48be-97cb-67222be36cdd"
      },
      "execution_count": 306,
      "outputs": [
        {
          "output_type": "execute_result",
          "data": {
            "text/plain": [
              "((array(['ge40', 'lt40', 'premeno'], dtype=object), array([129,   7, 150])),\n",
              " <matplotlib.axes._subplots.AxesSubplot at 0x7f7115c52290>)"
            ]
          },
          "metadata": {},
          "execution_count": 306
        },
        {
          "output_type": "display_data",
          "data": {
            "text/plain": [
              "<Figure size 576x396 with 1 Axes>"
            ],
            "image/png": "[encoded data removed]"
          },
          "metadata": {}
        }
      ]
    },
    {
      "cell_type": "code",
      "source": [
        "np.unique(base['tumorsize'], return_counts=True), sns.countplot(x = base['tumorsize'])"
      ],
      "metadata": {
        "colab": {
          "base_uri": "https://localhost:8080/",
          "height": 430
        },
        "id": "dwyfAcWhWvIp",
        "outputId": "fbb9b79b-2062-4e15-b23b-b2819adb9c1b"
      },
      "execution_count": 307,
      "outputs": [
        {
          "output_type": "execute_result",
          "data": {
            "text/plain": [
              "((array(['0-4', '05/set', '15-19', '20-24', '25-29', '30-34', '35-39',\n",
              "         '40-44', '45-49', '50-54', 'out/14'], dtype=object),\n",
              "  array([ 8,  4, 30, 50, 54, 60, 19, 22,  3,  8, 28])),\n",
              " <matplotlib.axes._subplots.AxesSubplot at 0x7f711587c7d0>)"
            ]
          },
          "metadata": {},
          "execution_count": 307
        },
        {
          "output_type": "display_data",
          "data": {
            "text/plain": [
              "<Figure size 576x396 with 1 Axes>"
            ],
            "image/png": "[encoded data removed]"
          },
          "metadata": {}
        }
      ]
    },
    {
      "cell_type": "code",
      "source": [
        "base.replace('05/set', '5-9', inplace = True)\n",
        "base.replace('out/14', '10-14', inplace = True)\n",
        "np.unique(base['invnodes'], return_counts=True), sns.countplot(x = base['invnodes'])"
      ],
      "metadata": {
        "colab": {
          "base_uri": "https://localhost:8080/",
          "height": 413
        },
        "id": "bGquoB_jZdKE",
        "outputId": "ad0f8484-38e8-4d77-96b7-9ae7a76aadb3"
      },
      "execution_count": 308,
      "outputs": [
        {
          "output_type": "execute_result",
          "data": {
            "text/plain": [
              "((array(['0-2', '03/mai', '06/ago', '09/nov', '15-17', '24-26', 'dez/14'],\n",
              "        dtype=object), array([213,  36,  17,  10,   6,   1,   3])),\n",
              " <matplotlib.axes._subplots.AxesSubplot at 0x7f711591f350>)"
            ]
          },
          "metadata": {},
          "execution_count": 308
        },
        {
          "output_type": "display_data",
          "data": {
            "text/plain": [
              "<Figure size 576x396 with 1 Axes>"
            ],
            "image/png": "[encoded data removed]"
          },
          "metadata": {}
        }
      ]
    },
    {
      "cell_type": "code",
      "source": [
        "np.unique(base['tumorsize'], return_counts=True), sns.countplot(x = base['tumorsize'])"
      ],
      "metadata": {
        "colab": {
          "base_uri": "https://localhost:8080/",
          "height": 430
        },
        "id": "V8sglwF9YWQQ",
        "outputId": "c8dd0f0f-7f99-461b-c888-1ce2cbb78b05"
      },
      "execution_count": 309,
      "outputs": [
        {
          "output_type": "execute_result",
          "data": {
            "text/plain": [
              "((array(['0-4', '10-14', '15-19', '20-24', '25-29', '30-34', '35-39',\n",
              "         '40-44', '45-49', '5-9', '50-54'], dtype=object),\n",
              "  array([ 8, 28, 30, 50, 54, 60, 19, 22,  3,  4,  8])),\n",
              " <matplotlib.axes._subplots.AxesSubplot at 0x7f711573f950>)"
            ]
          },
          "metadata": {},
          "execution_count": 309
        },
        {
          "output_type": "display_data",
          "data": {
            "text/plain": [
              "<Figure size 576x396 with 1 Axes>"
            ],
            "image/png": "[encoded data removed]"
          },
          "metadata": {}
        }
      ]
    },
    {
      "cell_type": "code",
      "source": [
        "base.replace('03/mai', '3-5', inplace = True)\n",
        "base.replace('06/ago', '6-8', inplace = True)\n",
        "base.replace('09/nov', '9-11', inplace = True)\n",
        "base.replace('dez/14', '12-14', inplace = True)\n",
        "np.unique(base['invnodes'], return_counts=True), sns.countplot(x = base['invnodes'])"
      ],
      "metadata": {
        "colab": {
          "base_uri": "https://localhost:8080/",
          "height": 413
        },
        "id": "J4Nhn-v1aRMw",
        "outputId": "c85ead77-f544-4eb2-cb34-e9340b40c0de"
      },
      "execution_count": 310,
      "outputs": [
        {
          "output_type": "execute_result",
          "data": {
            "text/plain": [
              "((array(['0-2', '12-14', '15-17', '24-26', '3-5', '6-8', '9-11'],\n",
              "        dtype=object), array([213,   3,   6,   1,  36,  17,  10])),\n",
              " <matplotlib.axes._subplots.AxesSubplot at 0x7f7115670750>)"
            ]
          },
          "metadata": {},
          "execution_count": 310
        },
        {
          "output_type": "display_data",
          "data": {
            "text/plain": [
              "<Figure size 576x396 with 1 Axes>"
            ],
            "image/png": "[encoded data removed]"
          },
          "metadata": {}
        }
      ]
    },
    {
      "cell_type": "code",
      "source": [
        "np.unique(base['nodecaps'], return_counts=True), sns.countplot(x = base['nodecaps'])"
      ],
      "metadata": {
        "colab": {
          "base_uri": "https://localhost:8080/",
          "height": 396
        },
        "id": "dwF91i9bW5Vi",
        "outputId": "e2cd48c9-29c4-43dc-a969-4d98080dfdde"
      },
      "execution_count": 311,
      "outputs": [
        {
          "output_type": "execute_result",
          "data": {
            "text/plain": [
              "((array(['no', 'yes'], dtype=object), array([230,  56])),\n",
              " <matplotlib.axes._subplots.AxesSubplot at 0x7f71155ed410>)"
            ]
          },
          "metadata": {},
          "execution_count": 311
        },
        {
          "output_type": "display_data",
          "data": {
            "text/plain": [
              "<Figure size 576x396 with 1 Axes>"
            ],
            "image/png": "[encoded data removed]"
          },
          "metadata": {}
        }
      ]
    },
    {
      "cell_type": "code",
      "source": [
        "np.unique(base['degmalig'], return_counts=True), sns.countplot(x = base['degmalig'])"
      ],
      "metadata": {
        "colab": {
          "base_uri": "https://localhost:8080/",
          "height": 396
        },
        "id": "x1-4kynrW5Gy",
        "outputId": "c3ff734b-281d-46ed-e921-3e3dbabf591a"
      },
      "execution_count": 312,
      "outputs": [
        {
          "output_type": "execute_result",
          "data": {
            "text/plain": [
              "((array([1, 2, 3]), array([ 71, 130,  85])),\n",
              " <matplotlib.axes._subplots.AxesSubplot at 0x7f71155c1790>)"
            ]
          },
          "metadata": {},
          "execution_count": 312
        },
        {
          "output_type": "display_data",
          "data": {
            "text/plain": [
              "<Figure size 576x396 with 1 Axes>"
            ],
            "image/png": "[encoded data removed]"
          },
          "metadata": {}
        }
      ]
    },
    {
      "cell_type": "code",
      "source": [
        "np.unique(base['breast'], return_counts=True), sns.countplot(x = base['breast'])"
      ],
      "metadata": {
        "colab": {
          "base_uri": "https://localhost:8080/",
          "height": 396
        },
        "id": "pylivk5YXf-a",
        "outputId": "1bae775f-d112-4928-d303-aa9bd59de90c"
      },
      "execution_count": 313,
      "outputs": [
        {
          "output_type": "execute_result",
          "data": {
            "text/plain": [
              "((array(['left', 'right'], dtype=object), array([152, 134])),\n",
              " <matplotlib.axes._subplots.AxesSubplot at 0x7f711552db90>)"
            ]
          },
          "metadata": {},
          "execution_count": 313
        },
        {
          "output_type": "display_data",
          "data": {
            "text/plain": [
              "<Figure size 576x396 with 1 Axes>"
            ],
            "image/png": "[encoded data removed]"
          },
          "metadata": {}
        }
      ]
    },
    {
      "cell_type": "code",
      "source": [
        "np.unique(base['breastquad'], return_counts=True), sns.countplot(x = base['breastquad'])"
      ],
      "metadata": {
        "colab": {
          "base_uri": "https://localhost:8080/",
          "height": 413
        },
        "id": "jx48ce7yXmTx",
        "outputId": "b277e120-6a79-425b-f933-5280ddca5d98"
      },
      "execution_count": 314,
      "outputs": [
        {
          "output_type": "execute_result",
          "data": {
            "text/plain": [
              "((array(['central', 'left_low', 'left_up', 'right_low', 'right_up'],\n",
              "        dtype=object), array([ 21, 111,  97,  24,  33])),\n",
              " <matplotlib.axes._subplots.AxesSubplot at 0x7f7115511250>)"
            ]
          },
          "metadata": {},
          "execution_count": 314
        },
        {
          "output_type": "display_data",
          "data": {
            "text/plain": [
              "<Figure size 576x396 with 1 Axes>"
            ],
            "image/png": "[encoded data removed]"
          },
          "metadata": {}
        }
      ]
    },
    {
      "cell_type": "code",
      "source": [
        "np.unique(base['irradiat'], return_counts=True), sns.countplot(x = base['irradiat'])"
      ],
      "metadata": {
        "colab": {
          "base_uri": "https://localhost:8080/",
          "height": 396
        },
        "id": "i1HCrI03XtFh",
        "outputId": "f15fdcb0-fab7-4ab9-a285-7a579524d784"
      },
      "execution_count": 315,
      "outputs": [
        {
          "output_type": "execute_result",
          "data": {
            "text/plain": [
              "((array(['no', 'yes'], dtype=object), array([218,  68])),\n",
              " <matplotlib.axes._subplots.AxesSubplot at 0x7f711547e090>)"
            ]
          },
          "metadata": {},
          "execution_count": 315
        },
        {
          "output_type": "display_data",
          "data": {
            "text/plain": [
              "<Figure size 576x396 with 1 Axes>"
            ],
            "image/png": "[encoded data removed]"
          },
          "metadata": {}
        }
      ]
    },
    {
      "cell_type": "markdown",
      "source": [
        "**Contando quantidade de instâncias**\n"
      ],
      "metadata": {
        "id": "nnxpN2abg5eN"
      }
    },
    {
      "cell_type": "code",
      "source": [
        "np.unique(base['Class'], return_counts=True)"
      ],
      "metadata": {
        "id": "xgR2Os49WO3d",
        "colab": {
          "base_uri": "https://localhost:8080/"
        },
        "outputId": "4605c7ed-00a8-4513-f0e8-42cb03e2fb0f"
      },
      "execution_count": 316,
      "outputs": [
        {
          "output_type": "execute_result",
          "data": {
            "text/plain": [
              "(array(['no-recurrence-events', 'recurrence-events'], dtype=object),\n",
              " array([201,  85]))"
            ]
          },
          "metadata": {},
          "execution_count": 316
        }
      ]
    },
    {
      "cell_type": "code",
      "source": [
        "sns.countplot(x = base['Class']);"
      ],
      "metadata": {
        "id": "n-DOy3oXXG4N",
        "colab": {
          "base_uri": "https://localhost:8080/",
          "height": 361
        },
        "outputId": "73513c37-e321-4334-d0ff-10e19c7ab4e6"
      },
      "execution_count": 317,
      "outputs": [
        {
          "output_type": "display_data",
          "data": {
            "text/plain": [
              "<Figure size 576x396 with 1 Axes>"
            ],
            "image/png": "[encoded data removed]"
          },
          "metadata": {}
        }
      ]
    },
    {
      "cell_type": "markdown",
      "source": [
        "**Separando os atributos de entrada e de classe**"
      ],
      "metadata": {
        "id": "MYJpg6Q8hH8i"
      }
    },
    {
      "cell_type": "code",
      "source": [
        "X_prev = base.iloc[:, 0:9].values"
      ],
      "metadata": {
        "id": "9EPdNWJIXPm2"
      },
      "execution_count": 318,
      "outputs": []
    },
    {
      "cell_type": "code",
      "source": [
        "X_prev"
      ],
      "metadata": {
        "id": "zYITR2Kv6X1F",
        "colab": {
          "base_uri": "https://localhost:8080/"
        },
        "outputId": "34af5278-c212-46a7-8e8a-f68033a344c2"
      },
      "execution_count": 319,
      "outputs": [
        {
          "output_type": "execute_result",
          "data": {
            "text/plain": [
              "array([['40-49', 'premeno', '15-19', ..., 'right', 'left_up', 'no'],\n",
              "       ['50-59', 'ge40', '15-19', ..., 'right', 'central', 'no'],\n",
              "       ['50-59', 'ge40', '35-39', ..., 'left', 'left_low', 'no'],\n",
              "       ...,\n",
              "       ['30-39', 'premeno', '30-34', ..., 'right', 'right_up', 'no'],\n",
              "       ['50-59', 'premeno', '15-19', ..., 'right', 'left_low', 'no'],\n",
              "       ['50-59', 'ge40', '40-44', ..., 'left', 'right_up', 'no']],\n",
              "      dtype=object)"
            ]
          },
          "metadata": {},
          "execution_count": 319
        }
      ]
    },
    {
      "cell_type": "code",
      "source": [
        "y_classe = base.iloc[:, 9].values"
      ],
      "metadata": {
        "id": "kLLl-H1ygy7y"
      },
      "execution_count": 320,
      "outputs": []
    },
    {
      "cell_type": "code",
      "source": [
        "y_classe"
      ],
      "metadata": {
        "id": "S0bpWOg3YgR6",
        "colab": {
          "base_uri": "https://localhost:8080/"
        },
        "outputId": "e8152e50-fcd0-437c-d127-48c1a2236b80"
      },
      "execution_count": 321,
      "outputs": [
        {
          "output_type": "execute_result",
          "data": {
            "text/plain": [
              "array(['recurrence-events', 'no-recurrence-events', 'recurrence-events',\n",
              "       'no-recurrence-events', 'recurrence-events',\n",
              "       'no-recurrence-events', 'no-recurrence-events',\n",
              "       'no-recurrence-events', 'no-recurrence-events',\n",
              "       'no-recurrence-events', 'no-recurrence-events',\n",
              "       'no-recurrence-events', 'no-recurrence-events',\n",
              "       'no-recurrence-events', 'recurrence-events',\n",
              "       'no-recurrence-events', 'no-recurrence-events',\n",
              "       'no-recurrence-events', 'no-recurrence-events',\n",
              "       'no-recurrence-events', 'recurrence-events',\n",
              "       'no-recurrence-events', 'no-recurrence-events',\n",
              "       'no-recurrence-events', 'recurrence-events',\n",
              "       'no-recurrence-events', 'no-recurrence-events',\n",
              "       'no-recurrence-events', 'no-recurrence-events',\n",
              "       'recurrence-events', 'recurrence-events', 'no-recurrence-events',\n",
              "       'no-recurrence-events', 'no-recurrence-events',\n",
              "       'recurrence-events', 'no-recurrence-events',\n",
              "       'no-recurrence-events', 'no-recurrence-events',\n",
              "       'no-recurrence-events', 'no-recurrence-events',\n",
              "       'recurrence-events', 'no-recurrence-events',\n",
              "       'no-recurrence-events', 'recurrence-events',\n",
              "       'no-recurrence-events', 'recurrence-events',\n",
              "       'no-recurrence-events', 'no-recurrence-events',\n",
              "       'no-recurrence-events', 'no-recurrence-events',\n",
              "       'recurrence-events', 'no-recurrence-events',\n",
              "       'no-recurrence-events', 'no-recurrence-events',\n",
              "       'no-recurrence-events', 'no-recurrence-events',\n",
              "       'no-recurrence-events', 'no-recurrence-events',\n",
              "       'no-recurrence-events', 'recurrence-events', 'recurrence-events',\n",
              "       'no-recurrence-events', 'no-recurrence-events',\n",
              "       'recurrence-events', 'recurrence-events', 'no-recurrence-events',\n",
              "       'no-recurrence-events', 'no-recurrence-events',\n",
              "       'recurrence-events', 'no-recurrence-events', 'recurrence-events',\n",
              "       'no-recurrence-events', 'no-recurrence-events',\n",
              "       'recurrence-events', 'recurrence-events', 'no-recurrence-events',\n",
              "       'no-recurrence-events', 'no-recurrence-events',\n",
              "       'recurrence-events', 'no-recurrence-events',\n",
              "       'no-recurrence-events', 'no-recurrence-events',\n",
              "       'no-recurrence-events', 'no-recurrence-events',\n",
              "       'no-recurrence-events', 'no-recurrence-events',\n",
              "       'no-recurrence-events', 'no-recurrence-events',\n",
              "       'no-recurrence-events', 'no-recurrence-events',\n",
              "       'recurrence-events', 'recurrence-events', 'recurrence-events',\n",
              "       'no-recurrence-events', 'no-recurrence-events',\n",
              "       'no-recurrence-events', 'recurrence-events',\n",
              "       'no-recurrence-events', 'recurrence-events', 'recurrence-events',\n",
              "       'recurrence-events', 'recurrence-events', 'no-recurrence-events',\n",
              "       'no-recurrence-events', 'no-recurrence-events',\n",
              "       'recurrence-events', 'recurrence-events', 'recurrence-events',\n",
              "       'no-recurrence-events', 'no-recurrence-events',\n",
              "       'no-recurrence-events', 'no-recurrence-events',\n",
              "       'no-recurrence-events', 'no-recurrence-events',\n",
              "       'no-recurrence-events', 'no-recurrence-events',\n",
              "       'recurrence-events', 'no-recurrence-events',\n",
              "       'no-recurrence-events', 'no-recurrence-events',\n",
              "       'recurrence-events', 'no-recurrence-events',\n",
              "       'no-recurrence-events', 'recurrence-events',\n",
              "       'no-recurrence-events', 'no-recurrence-events',\n",
              "       'no-recurrence-events', 'no-recurrence-events',\n",
              "       'recurrence-events', 'no-recurrence-events',\n",
              "       'no-recurrence-events', 'no-recurrence-events',\n",
              "       'recurrence-events', 'recurrence-events', 'no-recurrence-events',\n",
              "       'recurrence-events', 'no-recurrence-events',\n",
              "       'no-recurrence-events', 'recurrence-events',\n",
              "       'no-recurrence-events', 'recurrence-events',\n",
              "       'no-recurrence-events', 'recurrence-events',\n",
              "       'no-recurrence-events', 'no-recurrence-events',\n",
              "       'no-recurrence-events', 'recurrence-events',\n",
              "       'no-recurrence-events', 'no-recurrence-events',\n",
              "       'no-recurrence-events', 'recurrence-events',\n",
              "       'no-recurrence-events', 'no-recurrence-events',\n",
              "       'recurrence-events', 'no-recurrence-events',\n",
              "       'no-recurrence-events', 'recurrence-events', 'recurrence-events',\n",
              "       'no-recurrence-events', 'no-recurrence-events',\n",
              "       'no-recurrence-events', 'no-recurrence-events',\n",
              "       'no-recurrence-events', 'no-recurrence-events',\n",
              "       'recurrence-events', 'recurrence-events', 'recurrence-events',\n",
              "       'no-recurrence-events', 'no-recurrence-events',\n",
              "       'no-recurrence-events', 'recurrence-events', 'recurrence-events',\n",
              "       'no-recurrence-events', 'recurrence-events',\n",
              "       'no-recurrence-events', 'no-recurrence-events',\n",
              "       'no-recurrence-events', 'recurrence-events', 'recurrence-events',\n",
              "       'no-recurrence-events', 'no-recurrence-events',\n",
              "       'recurrence-events', 'no-recurrence-events', 'recurrence-events',\n",
              "       'no-recurrence-events', 'no-recurrence-events',\n",
              "       'no-recurrence-events', 'recurrence-events',\n",
              "       'no-recurrence-events', 'no-recurrence-events',\n",
              "       'recurrence-events', 'no-recurrence-events', 'recurrence-events',\n",
              "       'no-recurrence-events', 'no-recurrence-events',\n",
              "       'no-recurrence-events', 'recurrence-events',\n",
              "       'no-recurrence-events', 'no-recurrence-events',\n",
              "       'recurrence-events', 'no-recurrence-events',\n",
              "       'no-recurrence-events', 'no-recurrence-events',\n",
              "       'no-recurrence-events', 'no-recurrence-events',\n",
              "       'recurrence-events', 'no-recurrence-events', 'recurrence-events',\n",
              "       'recurrence-events', 'no-recurrence-events', 'recurrence-events',\n",
              "       'recurrence-events', 'no-recurrence-events',\n",
              "       'no-recurrence-events', 'no-recurrence-events',\n",
              "       'no-recurrence-events', 'recurrence-events',\n",
              "       'no-recurrence-events', 'recurrence-events',\n",
              "       'no-recurrence-events', 'no-recurrence-events',\n",
              "       'no-recurrence-events', 'no-recurrence-events',\n",
              "       'no-recurrence-events', 'recurrence-events',\n",
              "       'no-recurrence-events', 'no-recurrence-events',\n",
              "       'no-recurrence-events', 'no-recurrence-events',\n",
              "       'recurrence-events', 'no-recurrence-events',\n",
              "       'no-recurrence-events', 'no-recurrence-events',\n",
              "       'no-recurrence-events', 'no-recurrence-events',\n",
              "       'recurrence-events', 'no-recurrence-events', 'recurrence-events',\n",
              "       'recurrence-events', 'recurrence-events', 'recurrence-events',\n",
              "       'no-recurrence-events', 'no-recurrence-events',\n",
              "       'no-recurrence-events', 'no-recurrence-events',\n",
              "       'no-recurrence-events', 'no-recurrence-events',\n",
              "       'no-recurrence-events', 'no-recurrence-events',\n",
              "       'no-recurrence-events', 'recurrence-events',\n",
              "       'no-recurrence-events', 'no-recurrence-events',\n",
              "       'no-recurrence-events', 'no-recurrence-events',\n",
              "       'recurrence-events', 'no-recurrence-events', 'recurrence-events',\n",
              "       'no-recurrence-events', 'recurrence-events',\n",
              "       'no-recurrence-events', 'no-recurrence-events',\n",
              "       'no-recurrence-events', 'recurrence-events',\n",
              "       'no-recurrence-events', 'no-recurrence-events',\n",
              "       'no-recurrence-events', 'recurrence-events',\n",
              "       'no-recurrence-events', 'no-recurrence-events',\n",
              "       'recurrence-events', 'recurrence-events', 'no-recurrence-events',\n",
              "       'no-recurrence-events', 'no-recurrence-events',\n",
              "       'no-recurrence-events', 'no-recurrence-events',\n",
              "       'no-recurrence-events', 'no-recurrence-events',\n",
              "       'no-recurrence-events', 'no-recurrence-events',\n",
              "       'no-recurrence-events', 'no-recurrence-events',\n",
              "       'no-recurrence-events', 'no-recurrence-events',\n",
              "       'no-recurrence-events'], dtype=object)"
            ]
          },
          "metadata": {},
          "execution_count": 321
        }
      ]
    },
    {
      "cell_type": "code",
      "source": [
        "y_classe.shape"
      ],
      "metadata": {
        "id": "u1feo2CMYjHu",
        "colab": {
          "base_uri": "https://localhost:8080/"
        },
        "outputId": "808d4310-35d1-4839-c51f-bea93263f1fc"
      },
      "execution_count": 322,
      "outputs": [
        {
          "output_type": "execute_result",
          "data": {
            "text/plain": [
              "(286,)"
            ]
          },
          "metadata": {},
          "execution_count": 322
        }
      ]
    },
    {
      "cell_type": "code",
      "source": [
        "X_prev.shape"
      ],
      "metadata": {
        "id": "HdheeTjGYipE",
        "colab": {
          "base_uri": "https://localhost:8080/"
        },
        "outputId": "62d4f738-9775-4428-8a86-71343411c4d5"
      },
      "execution_count": 323,
      "outputs": [
        {
          "output_type": "execute_result",
          "data": {
            "text/plain": [
              "(286, 9)"
            ]
          },
          "metadata": {},
          "execution_count": 323
        }
      ]
    },
    {
      "cell_type": "markdown",
      "source": [
        "**Tratamento de dados categóricos**"
      ],
      "metadata": {
        "id": "xeaEnJuOij1V"
      }
    },
    {
      "cell_type": "markdown",
      "source": [
        "> *LabelEncoder - Vamos tratar os dados categóricos colocando 1, 2, 3 e etc**\n",
        "\n"
      ],
      "metadata": {
        "id": "3lW1I_-TiwUi"
      }
    },
    {
      "cell_type": "code",
      "source": [
        "from sklearn.preprocessing import LabelEncoder"
      ],
      "metadata": {
        "id": "bJftEzSbiorG"
      },
      "execution_count": 324,
      "outputs": []
    },
    {
      "cell_type": "code",
      "source": [
        "label_encoder = LabelEncoder()"
      ],
      "metadata": {
        "id": "zQDx5oLrjMCZ"
      },
      "execution_count": 325,
      "outputs": []
    },
    {
      "cell_type": "code",
      "source": [
        "X_prev[:,4]"
      ],
      "metadata": {
        "id": "OFz5uXgNjZd7",
        "colab": {
          "base_uri": "https://localhost:8080/"
        },
        "outputId": "c74084bc-9629-42db-d290-c97fc0e1742e"
      },
      "execution_count": 326,
      "outputs": [
        {
          "output_type": "execute_result",
          "data": {
            "text/plain": [
              "array(['yes', 'no', 'no', 'yes', 'yes', 'no', 'no', 'no', 'no', 'yes',\n",
              "       'no', 'no', 'no', 'no', 'no', 'no', 'no', 'no', 'no', 'no', 'no',\n",
              "       'no', 'no', 'no', 'yes', 'yes', 'no', 'no', 'yes', 'yes', 'no',\n",
              "       'no', 'no', 'no', 'no', 'no', 'no', 'yes', 'no', 'no', 'no', 'yes',\n",
              "       'no', 'yes', 'no', 'no', 'no', 'yes', 'yes', 'no', 'no', 'no',\n",
              "       'no', 'no', 'no', 'yes', 'no', 'no', 'no', 'no', 'yes', 'no', 'no',\n",
              "       'yes', 'no', 'no', 'no', 'no', 'yes', 'no', 'yes', 'no', 'no',\n",
              "       'yes', 'yes', 'no', 'no', 'no', 'no', 'yes', 'no', 'no', 'no',\n",
              "       'no', 'no', 'no', 'no', 'yes', 'no', 'no', 'no', 'no', 'no', 'no',\n",
              "       'no', 'no', 'no', 'no', 'no', 'no', 'yes', 'no', 'no', 'no', 'no',\n",
              "       'yes', 'no', 'no', 'no', 'no', 'no', 'no', 'no', 'no', 'no', 'no',\n",
              "       'yes', 'no', 'yes', 'no', 'yes', 'yes', 'no', 'yes', 'no', 'no',\n",
              "       'no', 'no', 'no', 'no', 'no', 'no', 'no', 'no', 'no', 'no', 'no',\n",
              "       'no', 'no', 'no', 'yes', 'no', 'no', 'yes', 'yes', 'no', 'no',\n",
              "       'no', 'no', 'no', 'no', 'no', 'yes', 'yes', 'no', 'no', 'no',\n",
              "       'yes', 'no', 'no', 'yes', 'no', 'no', 'no', 'no', 'yes', 'no',\n",
              "       'no', 'no', 'no', 'no', 'no', 'no', 'no', 'yes', 'no', 'no', 'yes',\n",
              "       'no', 'no', 'no', 'yes', 'no', 'no', 'no', 'no', 'no', 'no', 'no',\n",
              "       'no', 'no', 'no', 'yes', 'no', 'no', 'no', 'no', 'no', 'no', 'no',\n",
              "       'no', 'no', 'no', 'no', 'no', 'yes', 'no', 'no', 'no', 'no', 'yes',\n",
              "       'no', 'no', 'no', 'no', 'no', 'no', 'no', 'no', 'yes', 'no', 'no',\n",
              "       'no', 'no', 'no', 'no', 'no', 'no', 'no', 'no', 'no', 'no', 'no',\n",
              "       'no', 'no', 'no', 'no', 'yes', 'yes', 'yes', 'no', 'no', 'no',\n",
              "       'no', 'no', 'no', 'no', 'no', 'no', 'no', 'yes', 'no', 'no', 'no',\n",
              "       'no', 'no', 'no', 'no', 'yes', 'no', 'no', 'no', 'no', 'yes', 'no',\n",
              "       'no', 'no', 'no', 'no', 'no', 'no', 'yes', 'yes', 'no', 'no', 'no',\n",
              "       'no', 'no', 'yes', 'no', 'no', 'yes', 'yes', 'yes', 'no', 'no'],\n",
              "      dtype=object)"
            ]
          },
          "metadata": {},
          "execution_count": 326
        }
      ]
    },
    {
      "cell_type": "code",
      "source": [
        "X_prev"
      ],
      "metadata": {
        "id": "SAP1hx6lb19g",
        "colab": {
          "base_uri": "https://localhost:8080/"
        },
        "outputId": "7b4662f3-0f13-4fba-dabd-0b2a92193890"
      },
      "execution_count": 327,
      "outputs": [
        {
          "output_type": "execute_result",
          "data": {
            "text/plain": [
              "array([['40-49', 'premeno', '15-19', ..., 'right', 'left_up', 'no'],\n",
              "       ['50-59', 'ge40', '15-19', ..., 'right', 'central', 'no'],\n",
              "       ['50-59', 'ge40', '35-39', ..., 'left', 'left_low', 'no'],\n",
              "       ...,\n",
              "       ['30-39', 'premeno', '30-34', ..., 'right', 'right_up', 'no'],\n",
              "       ['50-59', 'premeno', '15-19', ..., 'right', 'left_low', 'no'],\n",
              "       ['50-59', 'ge40', '40-44', ..., 'left', 'right_up', 'no']],\n",
              "      dtype=object)"
            ]
          },
          "metadata": {},
          "execution_count": 327
        }
      ]
    },
    {
      "cell_type": "code",
      "source": [
        "label_encoder_nodecaps = LabelEncoder()\n",
        "label_encoder_breast = LabelEncoder()\n",
        "label_encoder_irradiat = LabelEncoder()"
      ],
      "metadata": {
        "id": "hEgGLwa_nDmk"
      },
      "execution_count": 328,
      "outputs": []
    },
    {
      "cell_type": "code",
      "source": [
        "X_prev[:,0] = label_encoder_nodecaps.fit_transform(X_prev[:,0])\n",
        "X_prev[:,1] = label_encoder_nodecaps.fit_transform(X_prev[:,1])\n",
        "X_prev[:,2] = label_encoder_nodecaps.fit_transform(X_prev[:,2])\n",
        "X_prev[:,3] = label_encoder_nodecaps.fit_transform(X_prev[:,3])\n",
        "X_prev[:,4] = label_encoder_nodecaps.fit_transform(X_prev[:,4])\n",
        "X_prev[:,6] = label_encoder_breast.fit_transform(X_prev[:,6])\n",
        "X_prev[:,8] = label_encoder_irradiat.fit_transform(X_prev[:,8])"
      ],
      "metadata": {
        "id": "CPHvoFGynldw"
      },
      "execution_count": 329,
      "outputs": []
    },
    {
      "cell_type": "code",
      "source": [
        "X_prev"
      ],
      "metadata": {
        "id": "phQP4ayIo7JC",
        "colab": {
          "base_uri": "https://localhost:8080/"
        },
        "outputId": "754666a5-7a15-4d55-b5d0-5f3f68710192"
      },
      "execution_count": 330,
      "outputs": [
        {
          "output_type": "execute_result",
          "data": {
            "text/plain": [
              "array([[2, 2, 2, ..., 1, 'left_up', 0],\n",
              "       [3, 0, 2, ..., 1, 'central', 0],\n",
              "       [3, 0, 6, ..., 0, 'left_low', 0],\n",
              "       ...,\n",
              "       [1, 2, 5, ..., 1, 'right_up', 0],\n",
              "       [3, 2, 2, ..., 1, 'left_low', 0],\n",
              "       [3, 0, 7, ..., 0, 'right_up', 0]], dtype=object)"
            ]
          },
          "metadata": {},
          "execution_count": 330
        }
      ]
    },
    {
      "cell_type": "markdown",
      "source": [
        "\n",
        "\n",
        ">** OneHotEncoder - Agora vamos binarizar atributos não ordinais**"
      ],
      "metadata": {
        "id": "CdvWmHBWpNVf"
      }
    },
    {
      "cell_type": "code",
      "source": [
        "from sklearn.preprocessing import OneHotEncoder\n",
        "from sklearn.compose import ColumnTransformer"
      ],
      "metadata": {
        "id": "abl6WdNRurkE"
      },
      "execution_count": 331,
      "outputs": []
    },
    {
      "cell_type": "code",
      "source": [
        "X_prev"
      ],
      "metadata": {
        "id": "0motJ0N9yd8W",
        "colab": {
          "base_uri": "https://localhost:8080/"
        },
        "outputId": "44a43a1e-5f2e-4257-d1b2-1699a9c904c9"
      },
      "execution_count": 332,
      "outputs": [
        {
          "output_type": "execute_result",
          "data": {
            "text/plain": [
              "array([[2, 2, 2, ..., 1, 'left_up', 0],\n",
              "       [3, 0, 2, ..., 1, 'central', 0],\n",
              "       [3, 0, 6, ..., 0, 'left_low', 0],\n",
              "       ...,\n",
              "       [1, 2, 5, ..., 1, 'right_up', 0],\n",
              "       [3, 2, 2, ..., 1, 'left_low', 0],\n",
              "       [3, 0, 7, ..., 0, 'right_up', 0]], dtype=object)"
            ]
          },
          "metadata": {},
          "execution_count": 332
        }
      ]
    },
    {
      "cell_type": "code",
      "source": [
        "onehotencoder_base = ColumnTransformer(transformers=[('OneHot', OneHotEncoder(), [7])], remainder='passthrough')"
      ],
      "metadata": {
        "id": "PKsgBg8CvVjt"
      },
      "execution_count": 333,
      "outputs": []
    },
    {
      "cell_type": "code",
      "source": [
        "X_prev= onehotencoder_base.fit_transform(X_prev)"
      ],
      "metadata": {
        "id": "XxJI5AEAvo0u"
      },
      "execution_count": 334,
      "outputs": []
    },
    {
      "cell_type": "code",
      "source": [
        "X_prev"
      ],
      "metadata": {
        "id": "PpzcL-nixDQy",
        "colab": {
          "base_uri": "https://localhost:8080/"
        },
        "outputId": "d167d5d7-22c6-40d1-da8c-bb7c4f7d1f49"
      },
      "execution_count": 335,
      "outputs": [
        {
          "output_type": "execute_result",
          "data": {
            "text/plain": [
              "array([[0.0, 0.0, 1.0, ..., 3, 1, 0],\n",
              "       [1.0, 0.0, 0.0, ..., 1, 1, 0],\n",
              "       [0.0, 1.0, 0.0, ..., 2, 0, 0],\n",
              "       ...,\n",
              "       [0.0, 0.0, 0.0, ..., 2, 1, 0],\n",
              "       [0.0, 1.0, 0.0, ..., 2, 1, 0],\n",
              "       [0.0, 0.0, 0.0, ..., 3, 0, 0]], dtype=object)"
            ]
          },
          "metadata": {},
          "execution_count": 335
        }
      ]
    },
    {
      "cell_type": "code",
      "source": [
        "X_prev.shape"
      ],
      "metadata": {
        "id": "6YoPu2Vt8mMY",
        "colab": {
          "base_uri": "https://localhost:8080/"
        },
        "outputId": "af8dd4bc-ce17-437d-9700-572909459a47"
      },
      "execution_count": 336,
      "outputs": [
        {
          "output_type": "execute_result",
          "data": {
            "text/plain": [
              "(286, 13)"
            ]
          },
          "metadata": {},
          "execution_count": 336
        }
      ]
    },
    {
      "cell_type": "markdown",
      "source": [
        "**Método de amostragem Holdout**"
      ],
      "metadata": {
        "id": "9dxbazZBDX6H"
      }
    },
    {
      "cell_type": "code",
      "source": [
        "from sklearn.model_selection import train_test_split"
      ],
      "metadata": {
        "id": "_qGk4N4CK7LQ"
      },
      "execution_count": 337,
      "outputs": []
    },
    {
      "cell_type": "code",
      "source": [
        "y_classe.shape"
      ],
      "metadata": {
        "id": "BBaT0pZRIocD",
        "colab": {
          "base_uri": "https://localhost:8080/"
        },
        "outputId": "30b14a19-962b-4aff-8a3c-d3def7bc635a"
      },
      "execution_count": 338,
      "outputs": [
        {
          "output_type": "execute_result",
          "data": {
            "text/plain": [
              "(286,)"
            ]
          },
          "metadata": {},
          "execution_count": 338
        }
      ]
    },
    {
      "cell_type": "code",
      "source": [
        "X_treino, X_teste, y_treino, y_teste = train_test_split(X_prev, y_classe, test_size = 0.20, random_state = 0)"
      ],
      "metadata": {
        "id": "BQ7sHFHmDz_b"
      },
      "execution_count": 339,
      "outputs": []
    },
    {
      "cell_type": "code",
      "source": [
        "X_treino.shape"
      ],
      "metadata": {
        "id": "nXswVGPeK_HB",
        "colab": {
          "base_uri": "https://localhost:8080/"
        },
        "outputId": "c11cce26-48c7-479f-9591-ce9db551307c"
      },
      "execution_count": 340,
      "outputs": [
        {
          "output_type": "execute_result",
          "data": {
            "text/plain": [
              "(228, 13)"
            ]
          },
          "metadata": {},
          "execution_count": 340
        }
      ]
    },
    {
      "cell_type": "code",
      "source": [
        "X_teste.shape"
      ],
      "metadata": {
        "id": "Qt1gTVyxLAvS",
        "colab": {
          "base_uri": "https://localhost:8080/"
        },
        "outputId": "b27b187c-cc8b-431a-fcc3-66670f446a4b"
      },
      "execution_count": 341,
      "outputs": [
        {
          "output_type": "execute_result",
          "data": {
            "text/plain": [
              "(58, 13)"
            ]
          },
          "metadata": {},
          "execution_count": 341
        }
      ]
    },
    {
      "cell_type": "markdown",
      "source": [
        "**Vamos treinar o modelo com as classes desbalanceadas?**"
      ],
      "metadata": {
        "id": "E19hOXNNj00O"
      }
    },
    {
      "cell_type": "code",
      "source": [
        "from sklearn.ensemble import RandomForestClassifier\n",
        "modelo = RandomForestClassifier(n_estimators=100, max_features=6, criterion='gini', random_state = 0)\n",
        "modelo.fit(X_treino, y_treino)"
      ],
      "metadata": {
        "id": "j0qnDkJmj0AC",
        "colab": {
          "base_uri": "https://localhost:8080/"
        },
        "outputId": "43a3b3c9-bbdb-44cb-ac23-ad44661b7f96"
      },
      "execution_count": 342,
      "outputs": [
        {
          "output_type": "execute_result",
          "data": {
            "text/plain": [
              "RandomForestClassifier(max_features=6, random_state=0)"
            ]
          },
          "metadata": {},
          "execution_count": 342
        }
      ]
    },
    {
      "cell_type": "code",
      "source": [
        "previsoes = modelo.predict(X_teste)"
      ],
      "metadata": {
        "id": "JOJh6uB1kt20"
      },
      "execution_count": 343,
      "outputs": []
    },
    {
      "cell_type": "code",
      "source": [
        "from sklearn.metrics import accuracy_score, confusion_matrix, classification_report\n",
        "accuracy_score(y_teste,previsoes)"
      ],
      "metadata": {
        "id": "AZd_svesktYI",
        "colab": {
          "base_uri": "https://localhost:8080/"
        },
        "outputId": "1fe77db8-1bc5-413e-a6fc-49e7c9b04da3"
      },
      "execution_count": 344,
      "outputs": [
        {
          "output_type": "execute_result",
          "data": {
            "text/plain": [
              "0.6896551724137931"
            ]
          },
          "metadata": {},
          "execution_count": 344
        }
      ]
    },
    {
      "cell_type": "code",
      "source": [
        "from yellowbrick.classifier import ConfusionMatrix\n",
        "confusion_matrix(y_teste, previsoes)"
      ],
      "metadata": {
        "id": "6jfIXGm5lOSI",
        "colab": {
          "base_uri": "https://localhost:8080/"
        },
        "outputId": "8b3b5c59-a10f-43c8-bfdb-9803b0117a9f"
      },
      "execution_count": 345,
      "outputs": [
        {
          "output_type": "execute_result",
          "data": {
            "text/plain": [
              "array([[32,  4],\n",
              "       [14,  8]])"
            ]
          },
          "metadata": {},
          "execution_count": 345
        }
      ]
    },
    {
      "cell_type": "code",
      "source": [
        "cm = ConfusionMatrix(modelo)\n",
        "cm.fit(X_treino, y_treino)\n",
        "cm.score(X_teste, y_teste)"
      ],
      "metadata": {
        "id": "cDo_EfwglS4U",
        "colab": {
          "base_uri": "https://localhost:8080/",
          "height": 468
        },
        "outputId": "92ab483e-3023-4eea-c120-d9fee8bf7217"
      },
      "execution_count": 346,
      "outputs": [
        {
          "output_type": "execute_result",
          "data": {
            "text/plain": [
              "0.6896551724137931"
            ]
          },
          "metadata": {},
          "execution_count": 346
        },
        {
          "output_type": "display_data",
          "data": {
            "text/plain": [
              "<Figure size 576x396 with 1 Axes>"
            ],
            "image/png": "[encoded data removed]"
          },
          "metadata": {}
        }
      ]
    },
    {
      "cell_type": "code",
      "source": [
        "print(classification_report(y_teste, previsoes))"
      ],
      "metadata": {
        "id": "l4Erj_V1lZKW",
        "colab": {
          "base_uri": "https://localhost:8080/"
        },
        "outputId": "c3272c5f-de31-4eef-d36b-54b479103ee1"
      },
      "execution_count": 347,
      "outputs": [
        {
          "output_type": "stream",
          "name": "stdout",
          "text": [
            "                      precision    recall  f1-score   support\n",
            "\n",
            "no-recurrence-events       0.70      0.89      0.78        36\n",
            "   recurrence-events       0.67      0.36      0.47        22\n",
            "\n",
            "            accuracy                           0.69        58\n",
            "           macro avg       0.68      0.63      0.63        58\n",
            "        weighted avg       0.68      0.69      0.66        58\n",
            "\n"
          ]
        }
      ]
    },
    {
      "cell_type": "markdown",
      "source": [
        "**Vamos balancear os dados usando um método undersampling?**"
      ],
      "metadata": {
        "id": "cTmIZwhhlhzk"
      }
    },
    {
      "cell_type": "code",
      "source": [
        "from imblearn.under_sampling import TomekLinks"
      ],
      "metadata": {
        "id": "pfSEp02qgpgf"
      },
      "execution_count": 348,
      "outputs": []
    },
    {
      "cell_type": "code",
      "source": [
        "balanceamento_under = TomekLinks(sampling_strategy='auto')\n",
        "X_under, y_under = balanceamento_under.fit_resample(X_treino, y_treino)"
      ],
      "metadata": {
        "id": "Thz-5UnLhFhZ"
      },
      "execution_count": 349,
      "outputs": []
    },
    {
      "cell_type": "code",
      "source": [
        "X_under.shape, y_under.shape"
      ],
      "metadata": {
        "id": "pFv6DK0eiGa0",
        "colab": {
          "base_uri": "https://localhost:8080/"
        },
        "outputId": "1f5de4e9-7ebc-4951-a9cc-05227c247c3a"
      },
      "execution_count": 350,
      "outputs": [
        {
          "output_type": "execute_result",
          "data": {
            "text/plain": [
              "((213, 13), (213,))"
            ]
          },
          "metadata": {},
          "execution_count": 350
        }
      ]
    },
    {
      "cell_type": "markdown",
      "source": [
        "**Quantas instâncias tinha em cada classe originalmente?**"
      ],
      "metadata": {
        "id": "Zv8yG6gvjQF7"
      }
    },
    {
      "cell_type": "code",
      "source": [
        "np.unique(y_treino, return_counts=True)"
      ],
      "metadata": {
        "id": "JhEftfYuilQZ",
        "colab": {
          "base_uri": "https://localhost:8080/"
        },
        "outputId": "d14f066e-6916-4690-97f6-2a2fd6b59dec"
      },
      "execution_count": 351,
      "outputs": [
        {
          "output_type": "execute_result",
          "data": {
            "text/plain": [
              "(array(['no-recurrence-events', 'recurrence-events'], dtype=object),\n",
              " array([165,  63]))"
            ]
          },
          "metadata": {},
          "execution_count": 351
        }
      ]
    },
    {
      "cell_type": "markdown",
      "source": [
        "**Quantas instâncias tem agora após o balanceamento?**"
      ],
      "metadata": {
        "id": "Do1i4bhujVgc"
      }
    },
    {
      "cell_type": "code",
      "source": [
        "np.unique(y_under, return_counts=True)"
      ],
      "metadata": {
        "id": "OAWIu9CUi_8c",
        "colab": {
          "base_uri": "https://localhost:8080/"
        },
        "outputId": "47c737b6-d7b8-4798-c73e-e1a375a2cf6b"
      },
      "execution_count": 352,
      "outputs": [
        {
          "output_type": "execute_result",
          "data": {
            "text/plain": [
              "(array(['no-recurrence-events', 'recurrence-events'], dtype=object),\n",
              " array([150,  63]))"
            ]
          },
          "metadata": {},
          "execution_count": 352
        }
      ]
    },
    {
      "cell_type": "markdown",
      "source": [
        "**Vamos ver se o balanceamento melhorou a qualidade do modelo?**"
      ],
      "metadata": {
        "id": "hxb6vCGlltbb"
      }
    },
    {
      "cell_type": "code",
      "source": [
        "modelo2 = RandomForestClassifier(n_estimators=100, max_features=6, criterion='gini', random_state = 0)\n",
        "modelo2.fit(X_under, y_under)"
      ],
      "metadata": {
        "id": "P4lRxDp4ilCU",
        "colab": {
          "base_uri": "https://localhost:8080/"
        },
        "outputId": "d6b914af-23a5-4af3-f8ad-ab0091cb09aa"
      },
      "execution_count": 353,
      "outputs": [
        {
          "output_type": "execute_result",
          "data": {
            "text/plain": [
              "RandomForestClassifier(max_features=6, random_state=0)"
            ]
          },
          "metadata": {},
          "execution_count": 353
        }
      ]
    },
    {
      "cell_type": "code",
      "source": [
        "previsoes = modelo2.predict(X_teste)"
      ],
      "metadata": {
        "id": "EVZbvVapmHKx"
      },
      "execution_count": 354,
      "outputs": []
    },
    {
      "cell_type": "code",
      "source": [
        "accuracy_score(y_teste,previsoes)"
      ],
      "metadata": {
        "id": "XmCAxpSpmIcV",
        "colab": {
          "base_uri": "https://localhost:8080/"
        },
        "outputId": "a50633cb-4d80-46a7-cb95-6b7f569aca01"
      },
      "execution_count": 355,
      "outputs": [
        {
          "output_type": "execute_result",
          "data": {
            "text/plain": [
              "0.7241379310344828"
            ]
          },
          "metadata": {},
          "execution_count": 355
        }
      ]
    },
    {
      "cell_type": "code",
      "source": [
        "cm = ConfusionMatrix(modelo2)\n",
        "cm.fit(X_under, y_under)\n",
        "cm.score(X_teste, y_teste)"
      ],
      "metadata": {
        "id": "BXvJeBNMmhZP",
        "colab": {
          "base_uri": "https://localhost:8080/",
          "height": 468
        },
        "outputId": "5f62752e-681c-4a18-c95a-3d279025e226"
      },
      "execution_count": 356,
      "outputs": [
        {
          "output_type": "execute_result",
          "data": {
            "text/plain": [
              "0.7241379310344828"
            ]
          },
          "metadata": {},
          "execution_count": 356
        },
        {
          "output_type": "display_data",
          "data": {
            "text/plain": [
              "<Figure size 576x396 with 1 Axes>"
            ],
            "image/png": "[encoded data removed]"
          },
          "metadata": {}
        }
      ]
    },
    {
      "cell_type": "code",
      "source": [
        "print(classification_report(y_teste, previsoes))"
      ],
      "metadata": {
        "id": "r9-y0FC0nExy",
        "colab": {
          "base_uri": "https://localhost:8080/"
        },
        "outputId": "3951b52e-78e0-41c4-ec2c-6302cbb8f62c"
      },
      "execution_count": 357,
      "outputs": [
        {
          "output_type": "stream",
          "name": "stdout",
          "text": [
            "                      precision    recall  f1-score   support\n",
            "\n",
            "no-recurrence-events       0.72      0.92      0.80        36\n",
            "   recurrence-events       0.75      0.41      0.53        22\n",
            "\n",
            "            accuracy                           0.72        58\n",
            "           macro avg       0.73      0.66      0.67        58\n",
            "        weighted avg       0.73      0.72      0.70        58\n",
            "\n"
          ]
        }
      ]
    }
  ]
}