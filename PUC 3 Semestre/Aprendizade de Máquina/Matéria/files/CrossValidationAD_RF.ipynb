{
  "nbformat": 4,
  "nbformat_minor": 0,
  "metadata": {
    "colab": {
      "provenance": []
    },
    "kernelspec": {
      "name": "python3",
      "display_name": "Python 3"
    },
    "language_info": {
      "name": "python"
    }
  },
  "cells": [
    {
      "cell_type": "markdown",
      "source": [
        "**Vamos experimentar agora o algoritmo Decision Tree?**"
      ],
      "metadata": {
        "id": "_bPVTxb4akHi"
      }
    },
    {
      "cell_type": "code",
      "source": [
        "!pip -q install yellowbrick"
      ],
      "metadata": {
        "id": "fpe0EYaXiIPm"
      },
      "execution_count": 71,
      "outputs": []
    },
    {
      "cell_type": "code",
      "execution_count": 72,
      "metadata": {
        "id": "ru9xg6QIaceV"
      },
      "outputs": [],
      "source": [
        "import pandas as pd\n",
        "import numpy as np\n",
        "import seaborn as sns\n",
        "import matplotlib.pyplot as plt\n",
        "import plotly.express as px\n",
        "from sklearn.tree import DecisionTreeClassifier\n",
        "from sklearn.ensemble import RandomForestClassifier\n",
        "from sklearn.model_selection import cross_val_score\n",
        "from sklearn.metrics import accuracy_score, precision_score, recall_score, f1_score\n",
        "from sklearn.model_selection import KFold"
      ]
    },
    {
      "cell_type": "code",
      "source": [
        "import pickle\n",
        "with open('/content/sample_data/iris.pkl', 'rb') as f:\n",
        "  X_treino, X_teste, y_treino, y_teste = pickle.load(f)"
      ],
      "metadata": {
        "id": "STeZ46Y4bKfl"
      },
      "execution_count": 73,
      "outputs": []
    },
    {
      "cell_type": "markdown",
      "source": [
        "Usando o método de amostragem holdout"
      ],
      "metadata": {
        "id": "Toi3zdRoGxLo"
      }
    },
    {
      "cell_type": "code",
      "source": [
        "modelo.fit(X_treino, y_treino)\n",
        "test_score = modelo.score(X_teste, y_teste)"
      ],
      "metadata": {
        "id": "NKSzfX4-GwXX"
      },
      "execution_count": null,
      "outputs": []
    },
    {
      "cell_type": "code",
      "source": [
        "kf = KFold(n_splits=10, shuffle=True, random_state=42)"
      ],
      "metadata": {
        "id": "jEdiwgIIDnhR"
      },
      "execution_count": 74,
      "outputs": []
    },
    {
      "cell_type": "code",
      "source": [
        "modelo = DecisionTreeClassifier(criterion='gini', max_depth=3)\n",
        "modelo2 = RandomForestClassifier(n_estimators=30, max_depth=5, max_features=\"sqrt\")\n",
        "scoresAD = cross_val_score(modelo, X_treino, y_treino, cv=kf)\n",
        "scoresRF = cross_val_score(modelo2, X_treino, y_treino, cv=kf)\n",
        "print(\"Acurácia média da Árvore:\", scoresAD, scoresAD.mean(), \"+-\", scoresAD.std())\n",
        "print(\"Acurácia média do RF:\", scoresRF, scoresRF.mean(), \"+-\", scoresRF.std())"
      ],
      "metadata": {
        "id": "hVW22XucaswH",
        "colab": {
          "base_uri": "https://localhost:8080/"
        },
        "outputId": "f6ff646d-7bb3-4a76-814f-e73db2b563fe"
      },
      "execution_count": 75,
      "outputs": [
        {
          "output_type": "stream",
          "name": "stdout",
          "text": [
            "Acurácia média da Árvore: [0.83333333 0.91666667 1.         0.91666667 0.91666667 1.\n",
            " 0.91666667 1.         0.91666667 1.        ] 0.9416666666666667 +- 0.05335936864527374\n",
            "Acurácia média do RF: [0.83333333 0.91666667 1.         1.         0.91666667 1.\n",
            " 0.91666667 1.         0.91666667 1.        ] 0.95 +- 0.05527707983925667\n"
          ]
        }
      ]
    },
    {
      "cell_type": "code",
      "source": [],
      "metadata": {
        "id": "XIrTn989EGtf"
      },
      "execution_count": 76,
      "outputs": []
    }
  ]
}