{
  "cells": [
    {
      "cell_type": "code",
      "source": [
        "from sklearn.ensemble import RandomForestClassifier\n",
        "from sklearn.metrics import classification_report\n",
        "from sklearn import metrics\n",
        "from sklearn.model_selection import train_test_split\n",
        "import statistics\n",
        "import pandas as pd\n",
        "from sklearn.preprocessing import StandardScaler"
      ],
      "metadata": {
        "id": "DNMQC3P9at_E"
      },
      "id": "DNMQC3P9at_E",
      "execution_count": 63,
      "outputs": []
    },
    {
      "cell_type": "code",
      "source": [
        "df = pd.read_csv(\"/content/sample_data/Presos_MissForestv2.csv\", delimiter=';', skipinitialspace=True)"
      ],
      "metadata": {
        "id": "Q49QF767axxU"
      },
      "id": "Q49QF767axxU",
      "execution_count": 64,
      "outputs": []
    },
    {
      "cell_type": "code",
      "execution_count": 66,
      "id": "119e01fb",
      "metadata": {
        "id": "119e01fb"
      },
      "outputs": [],
      "source": [
        "#Get the input features\n",
        "columns = df.columns\n",
        "class_name = 'WrittenUpOrFoundGuiltyOfBreakingAnyRules'\n",
        "columns_tmp = list(columns)\n",
        "columns_tmp.remove(class_name)\n",
        "\n",
        "x, x_test, y, y_test = train_test_split(df[columns_tmp], df[class_name], test_size=0.1)\n",
        "\n",
        "model = RandomForestClassifier(criterion = 'entropy', max_depth = 10, n_estimators = 100) "
      ]
    },
    {
      "cell_type": "code",
      "execution_count": 67,
      "id": "f55578a3",
      "metadata": {
        "id": "f55578a3"
      },
      "outputs": [],
      "source": [
        "#DEFININDO QUANTIDADE DE FOLDS\n",
        "from sklearn.model_selection import KFold\n",
        "kf = KFold(n_splits=10)"
      ]
    },
    {
      "cell_type": "code",
      "execution_count": 68,
      "id": "811d4991",
      "metadata": {
        "colab": {
          "base_uri": "https://localhost:8080/",
          "height": 1000
        },
        "id": "811d4991",
        "outputId": "cc9cb717-33ad-491e-8337-6e86a7b7544b"
      },
      "outputs": [
        {
          "output_type": "stream",
          "name": "stdout",
          "text": [
            "FOLD: 1\n",
            "              precision    recall  f1-score   support\n",
            "\n",
            "           0       0.79      0.71      0.75        21\n",
            "           1       0.40      0.50      0.44         8\n",
            "\n",
            "    accuracy                           0.66        29\n",
            "   macro avg       0.59      0.61      0.60        29\n",
            "weighted avg       0.68      0.66      0.67        29\n",
            "\n"
          ]
        },
        {
          "output_type": "display_data",
          "data": {
            "text/plain": [
              "<Figure size 432x288 with 2 Axes>"
            ],
            "image/png": "[encoded data removed]"
          },
          "metadata": {
            "needs_background": "light"
          }
        },
        {
          "output_type": "stream",
          "name": "stdout",
          "text": [
            "---------------------------------------------------------\n",
            "FOLD: 2\n",
            "              precision    recall  f1-score   support\n",
            "\n",
            "           0       0.68      0.79      0.73        19\n",
            "           1       0.43      0.30      0.35        10\n",
            "\n",
            "    accuracy                           0.62        29\n",
            "   macro avg       0.56      0.54      0.54        29\n",
            "weighted avg       0.59      0.62      0.60        29\n",
            "\n"
          ]
        },
        {
          "output_type": "display_data",
          "data": {
            "text/plain": [
              "<Figure size 432x288 with 2 Axes>"
            ],
            "image/png": "[encoded data removed]"
          },
          "metadata": {
            "needs_background": "light"
          }
        },
        {
          "output_type": "stream",
          "name": "stdout",
          "text": [
            "---------------------------------------------------------\n",
            "FOLD: 3\n",
            "              precision    recall  f1-score   support\n",
            "\n",
            "           0       0.71      0.89      0.79        19\n",
            "           1       0.60      0.30      0.40        10\n",
            "\n",
            "    accuracy                           0.69        29\n",
            "   macro avg       0.65      0.60      0.60        29\n",
            "weighted avg       0.67      0.69      0.66        29\n",
            "\n"
          ]
        },
        {
          "output_type": "display_data",
          "data": {
            "text/plain": [
              "<Figure size 432x288 with 2 Axes>"
            ],
            "image/png": "[encoded data removed]"
          },
          "metadata": {
            "needs_background": "light"
          }
        },
        {
          "output_type": "stream",
          "name": "stdout",
          "text": [
            "---------------------------------------------------------\n",
            "FOLD: 4\n",
            "              precision    recall  f1-score   support\n",
            "\n",
            "           0       0.62      0.93      0.74        14\n",
            "           1       0.86      0.43      0.57        14\n",
            "\n",
            "    accuracy                           0.68        28\n",
            "   macro avg       0.74      0.68      0.66        28\n",
            "weighted avg       0.74      0.68      0.66        28\n",
            "\n"
          ]
        },
        {
          "output_type": "display_data",
          "data": {
            "text/plain": [
              "<Figure size 432x288 with 2 Axes>"
            ],
            "image/png": "[encoded data removed]"
          },
          "metadata": {
            "needs_background": "light"
          }
        },
        {
          "output_type": "stream",
          "name": "stdout",
          "text": [
            "---------------------------------------------------------\n",
            "FOLD: 5\n",
            "              precision    recall  f1-score   support\n",
            "\n",
            "           0       0.80      0.80      0.80        15\n",
            "           1       0.77      0.77      0.77        13\n",
            "\n",
            "    accuracy                           0.79        28\n",
            "   macro avg       0.78      0.78      0.78        28\n",
            "weighted avg       0.79      0.79      0.79        28\n",
            "\n"
          ]
        },
        {
          "output_type": "display_data",
          "data": {
            "text/plain": [
              "<Figure size 432x288 with 2 Axes>"
            ],
            "image/png": "[encoded data removed]"
          },
          "metadata": {
            "needs_background": "light"
          }
        },
        {
          "output_type": "stream",
          "name": "stdout",
          "text": [
            "---------------------------------------------------------\n",
            "FOLD: 6\n",
            "              precision    recall  f1-score   support\n",
            "\n",
            "           0       0.63      0.86      0.73        14\n",
            "           1       0.78      0.50      0.61        14\n",
            "\n",
            "    accuracy                           0.68        28\n",
            "   macro avg       0.70      0.68      0.67        28\n",
            "weighted avg       0.70      0.68      0.67        28\n",
            "\n"
          ]
        },
        {
          "output_type": "display_data",
          "data": {
            "text/plain": [
              "<Figure size 432x288 with 2 Axes>"
            ],
            "image/png": "[encoded data removed]"
          },
          "metadata": {
            "needs_background": "light"
          }
        },
        {
          "output_type": "stream",
          "name": "stdout",
          "text": [
            "---------------------------------------------------------\n",
            "FOLD: 7\n",
            "              precision    recall  f1-score   support\n",
            "\n",
            "           0       0.68      0.76      0.72        17\n",
            "           1       0.56      0.45      0.50        11\n",
            "\n",
            "    accuracy                           0.64        28\n",
            "   macro avg       0.62      0.61      0.61        28\n",
            "weighted avg       0.63      0.64      0.63        28\n",
            "\n"
          ]
        },
        {
          "output_type": "display_data",
          "data": {
            "text/plain": [
              "<Figure size 432x288 with 2 Axes>"
            ],
            "image/png": "[encoded data removed]"
          },
          "metadata": {
            "needs_background": "light"
          }
        },
        {
          "output_type": "stream",
          "name": "stdout",
          "text": [
            "---------------------------------------------------------\n",
            "FOLD: 8\n",
            "              precision    recall  f1-score   support\n",
            "\n",
            "           0       0.50      0.71      0.59        14\n",
            "           1       0.50      0.29      0.36        14\n",
            "\n",
            "    accuracy                           0.50        28\n",
            "   macro avg       0.50      0.50      0.48        28\n",
            "weighted avg       0.50      0.50      0.48        28\n",
            "\n"
          ]
        },
        {
          "output_type": "display_data",
          "data": {
            "text/plain": [
              "<Figure size 432x288 with 2 Axes>"
            ],
            "image/png": "[encoded data removed]"
          },
          "metadata": {
            "needs_background": "light"
          }
        },
        {
          "output_type": "stream",
          "name": "stdout",
          "text": [
            "---------------------------------------------------------\n",
            "FOLD: 9\n",
            "              precision    recall  f1-score   support\n",
            "\n",
            "           0       0.60      0.53      0.56        17\n",
            "           1       0.38      0.45      0.42        11\n",
            "\n",
            "    accuracy                           0.50        28\n",
            "   macro avg       0.49      0.49      0.49        28\n",
            "weighted avg       0.52      0.50      0.51        28\n",
            "\n"
          ]
        },
        {
          "output_type": "display_data",
          "data": {
            "text/plain": [
              "<Figure size 432x288 with 2 Axes>"
            ],
            "image/png": "[encoded data removed]"
          },
          "metadata": {
            "needs_background": "light"
          }
        },
        {
          "output_type": "stream",
          "name": "stdout",
          "text": [
            "---------------------------------------------------------\n",
            "FOLD: 10\n",
            "              precision    recall  f1-score   support\n",
            "\n",
            "           0       0.50      0.92      0.65        12\n",
            "           1       0.83      0.31      0.45        16\n",
            "\n",
            "    accuracy                           0.57        28\n",
            "   macro avg       0.67      0.61      0.55        28\n",
            "weighted avg       0.69      0.57      0.54        28\n",
            "\n"
          ]
        },
        {
          "output_type": "display_data",
          "data": {
            "text/plain": [
              "<Figure size 432x288 with 2 Axes>"
            ],
            "image/png": "[encoded data removed]"
          },
          "metadata": {
            "needs_background": "light"
          }
        },
        {
          "output_type": "stream",
          "name": "stdout",
          "text": [
            "---------------------------------------------------------\n",
            "Precisão média na validação das classes Inferior e Superior:  [0.65 0.61]\n",
            "----------------------------------------------------------------\n",
            "Recall médio na validação das classes Inferior e Superior:  [0.79 0.43]\n",
            "----------------------------------------------------------------\n",
            "F1 score médio na validação das classes Inferior e Superior:  [0.71 0.49]\n"
          ]
        }
      ],
      "source": [
        "melhor = 0\n",
        "#SE O DATASET FOR UM PANDAS DATAFRAME USAR iloc, SE FOR UM NUMPY ARRAY USAR take\n",
        "import sklearn.metrics as metrics\n",
        "import matplotlib.pyplot as plt\n",
        "from sklearn.metrics import precision_recall_fscore_support\n",
        "import numpy as np\n",
        "import copy\n",
        "\n",
        "fold = 1\n",
        "labels = ['0', '1']\n",
        "labels2 = [0, 1]\n",
        "\n",
        "precision_valid = [0,0]\n",
        "recall_valid = [0,0]\n",
        "fscore_valid = [0,0]\n",
        "\n",
        "for train_index, valid_index in kf.split(x):\n",
        "    x_train = x.iloc[train_index].loc[:]\n",
        "    y_train = y.iloc[train_index]    \n",
        "    \n",
        "    x_valid = x.iloc[valid_index].loc[:]\n",
        "    y_valid = y.iloc[valid_index]\n",
        "    \n",
        "    model.fit(x_train, y_train)\n",
        "    predito = model.predict(x_valid)\n",
        "    \n",
        "    #Calculando as métricas\n",
        "    precision,recall,fscore,support = precision_recall_fscore_support(y_valid, predito, average=None)   \n",
        "    precision_valid = np.add(precision_valid,precision)\n",
        "    recall_valid = np.add(recall_valid,recall)\n",
        "    fscore_valid = np.add(fscore_valid,fscore)     \n",
        "\n",
        "    acuracia = np.mean(y_valid == predito)\n",
        "    \n",
        "    if acuracia > melhor:          \n",
        "        melhor = acuracia\n",
        "        best_model = copy.deepcopy(model)\n",
        "    \n",
        "    print('FOLD: ' + str(fold))\n",
        "    print(metrics.classification_report(y_valid,predito, target_names=labels))\n",
        "    \n",
        "    cm = metrics.confusion_matrix(y_valid,predito, labels=labels2)\n",
        "    disp = metrics.ConfusionMatrixDisplay(confusion_matrix=cm, display_labels=labels2)\n",
        "    disp.plot()\n",
        "    plt.show()\n",
        "    \n",
        "    fold += 1\n",
        "    print('---------------------------------------------------------')\n",
        "\n",
        "print(\"Precisão média na validação das classes Inferior e Superior: \" , np.round(precision_valid/10,2))\n",
        "print(\"----------------------------------------------------------------\")\n",
        "print(\"Recall médio na validação das classes Inferior e Superior: \" ,  np.round(recall_valid/10,2))\n",
        "print(\"----------------------------------------------------------------\")\n",
        "print(\"F1 score médio na validação das classes Inferior e Superior: \" ,  np.round(fscore_valid/10,2))"
      ]
    },
    {
      "cell_type": "code",
      "execution_count": 69,
      "id": "bc2b5c71",
      "metadata": {
        "colab": {
          "base_uri": "https://localhost:8080/"
        },
        "id": "bc2b5c71",
        "outputId": "427f7774-3169-41b8-c12c-85d3b86e82c5"
      },
      "outputs": [
        {
          "output_type": "stream",
          "name": "stdout",
          "text": [
            "              precision    recall  f1-score   support\n",
            "\n",
            "           0       0.87      0.80      0.83        25\n",
            "           1       0.44      0.57      0.50         7\n",
            "\n",
            "    accuracy                           0.75        32\n",
            "   macro avg       0.66      0.69      0.67        32\n",
            "weighted avg       0.78      0.75      0.76        32\n",
            "\n"
          ]
        }
      ],
      "source": [
        "#Teste\n",
        "p = best_model.predict(x_test)\n",
        "\n",
        "print(classification_report(y_test, p))"
      ]
    }
  ],
  "metadata": {
    "kernelspec": {
      "display_name": "Python 3",
      "language": "python",
      "name": "python3"
    },
    "language_info": {
      "codemirror_mode": {
        "name": "ipython",
        "version": 3
      },
      "file_extension": ".py",
      "mimetype": "text/x-python",
      "name": "python",
      "nbconvert_exporter": "python",
      "pygments_lexer": "ipython3",
      "version": "3.8.8"
    },
    "colab": {
      "provenance": []
    }
  },
  "nbformat": 4,
  "nbformat_minor": 5
}